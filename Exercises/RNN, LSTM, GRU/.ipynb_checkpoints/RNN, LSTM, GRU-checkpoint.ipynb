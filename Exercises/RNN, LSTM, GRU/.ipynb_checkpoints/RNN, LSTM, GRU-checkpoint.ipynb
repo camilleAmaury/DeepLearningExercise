{
 "cells": [
  {
   "cell_type": "markdown",
   "metadata": {},
   "source": [
    "# Recurrent Neural Network\n",
    "\n",
    "This notebook was created by Camille-Amaury JUGE, in order to better understand RNN, LSTM, GRU principles and how they work.\n",
    "\n",
    "(it follows the exercices proposed by Hadelin de Ponteves on Udemy : https://www.udemy.com/course/le-deep-learning-de-a-a-z/)\n",
    "\n",
    "## Imports"
   ]
  },
  {
   "cell_type": "code",
   "execution_count": 268,
   "metadata": {},
   "outputs": [],
   "source": [
    "import numpy as np\n",
    "import pandas as pd\n",
    "import matplotlib.pyplot as plt\n",
    "from pylab import rcParams\n",
    "rcParams['figure.figsize'] = 16, 10\n",
    "# keras\n",
    "import keras\n",
    "from keras.models import Sequential\n",
    "from keras.layers import Dense, Dropout\n",
    "from keras.layers import LSTM, SimpleRNN, GRU\n",
    "# scikit learn\n",
    "from sklearn.preprocessing import MinMaxScaler"
   ]
  },
  {
   "cell_type": "markdown",
   "metadata": {},
   "source": [
    "## preprocessing\n",
    "\n",
    "The dataset represents the google's stock price over the past 5 years. It shows the basic features of the stocks.\n",
    "\n",
    "The train set is only compunded of 1 month.\n",
    "\n",
    "Our aim is to make prediction over the trends that the google's stock could have in the futur."
   ]
  },
  {
   "cell_type": "code",
   "execution_count": 269,
   "metadata": {},
   "outputs": [
    {
     "data": {
      "text/html": [
       "<div>\n",
       "<style scoped>\n",
       "    .dataframe tbody tr th:only-of-type {\n",
       "        vertical-align: middle;\n",
       "    }\n",
       "\n",
       "    .dataframe tbody tr th {\n",
       "        vertical-align: top;\n",
       "    }\n",
       "\n",
       "    .dataframe thead th {\n",
       "        text-align: right;\n",
       "    }\n",
       "</style>\n",
       "<table border=\"1\" class=\"dataframe\">\n",
       "  <thead>\n",
       "    <tr style=\"text-align: right;\">\n",
       "      <th></th>\n",
       "      <th>Date</th>\n",
       "      <th>Open</th>\n",
       "      <th>High</th>\n",
       "      <th>Low</th>\n",
       "      <th>Close</th>\n",
       "      <th>Volume</th>\n",
       "    </tr>\n",
       "  </thead>\n",
       "  <tbody>\n",
       "    <tr>\n",
       "      <th>0</th>\n",
       "      <td>1/3/2012</td>\n",
       "      <td>325.25</td>\n",
       "      <td>332.83</td>\n",
       "      <td>324.97</td>\n",
       "      <td>663.59</td>\n",
       "      <td>7,380,500</td>\n",
       "    </tr>\n",
       "    <tr>\n",
       "      <th>1</th>\n",
       "      <td>1/4/2012</td>\n",
       "      <td>331.27</td>\n",
       "      <td>333.87</td>\n",
       "      <td>329.08</td>\n",
       "      <td>666.45</td>\n",
       "      <td>5,749,400</td>\n",
       "    </tr>\n",
       "    <tr>\n",
       "      <th>2</th>\n",
       "      <td>1/5/2012</td>\n",
       "      <td>329.83</td>\n",
       "      <td>330.75</td>\n",
       "      <td>326.89</td>\n",
       "      <td>657.21</td>\n",
       "      <td>6,590,300</td>\n",
       "    </tr>\n",
       "    <tr>\n",
       "      <th>3</th>\n",
       "      <td>1/6/2012</td>\n",
       "      <td>328.34</td>\n",
       "      <td>328.77</td>\n",
       "      <td>323.68</td>\n",
       "      <td>648.24</td>\n",
       "      <td>5,405,900</td>\n",
       "    </tr>\n",
       "    <tr>\n",
       "      <th>4</th>\n",
       "      <td>1/9/2012</td>\n",
       "      <td>322.04</td>\n",
       "      <td>322.29</td>\n",
       "      <td>309.46</td>\n",
       "      <td>620.76</td>\n",
       "      <td>11,688,800</td>\n",
       "    </tr>\n",
       "  </tbody>\n",
       "</table>\n",
       "</div>"
      ],
      "text/plain": [
       "       Date    Open    High     Low   Close      Volume\n",
       "0  1/3/2012  325.25  332.83  324.97  663.59   7,380,500\n",
       "1  1/4/2012  331.27  333.87  329.08  666.45   5,749,400\n",
       "2  1/5/2012  329.83  330.75  326.89  657.21   6,590,300\n",
       "3  1/6/2012  328.34  328.77  323.68  648.24   5,405,900\n",
       "4  1/9/2012  322.04  322.29  309.46  620.76  11,688,800"
      ]
     },
     "execution_count": 269,
     "metadata": {},
     "output_type": "execute_result"
    }
   ],
   "source": [
    "df_train = pd.read_csv(\"Google_Stock_Price_Train.csv\")\n",
    "df_train.head()"
   ]
  },
  {
   "cell_type": "code",
   "execution_count": 270,
   "metadata": {},
   "outputs": [
    {
     "data": {
      "text/html": [
       "<div>\n",
       "<style scoped>\n",
       "    .dataframe tbody tr th:only-of-type {\n",
       "        vertical-align: middle;\n",
       "    }\n",
       "\n",
       "    .dataframe tbody tr th {\n",
       "        vertical-align: top;\n",
       "    }\n",
       "\n",
       "    .dataframe thead th {\n",
       "        text-align: right;\n",
       "    }\n",
       "</style>\n",
       "<table border=\"1\" class=\"dataframe\">\n",
       "  <thead>\n",
       "    <tr style=\"text-align: right;\">\n",
       "      <th></th>\n",
       "      <th>Date</th>\n",
       "      <th>Open</th>\n",
       "      <th>High</th>\n",
       "      <th>Low</th>\n",
       "      <th>Close</th>\n",
       "      <th>Volume</th>\n",
       "    </tr>\n",
       "  </thead>\n",
       "  <tbody>\n",
       "    <tr>\n",
       "      <th>0</th>\n",
       "      <td>1/3/2017</td>\n",
       "      <td>778.81</td>\n",
       "      <td>789.63</td>\n",
       "      <td>775.80</td>\n",
       "      <td>786.14</td>\n",
       "      <td>1,657,300</td>\n",
       "    </tr>\n",
       "    <tr>\n",
       "      <th>1</th>\n",
       "      <td>1/4/2017</td>\n",
       "      <td>788.36</td>\n",
       "      <td>791.34</td>\n",
       "      <td>783.16</td>\n",
       "      <td>786.90</td>\n",
       "      <td>1,073,000</td>\n",
       "    </tr>\n",
       "    <tr>\n",
       "      <th>2</th>\n",
       "      <td>1/5/2017</td>\n",
       "      <td>786.08</td>\n",
       "      <td>794.48</td>\n",
       "      <td>785.02</td>\n",
       "      <td>794.02</td>\n",
       "      <td>1,335,200</td>\n",
       "    </tr>\n",
       "    <tr>\n",
       "      <th>3</th>\n",
       "      <td>1/6/2017</td>\n",
       "      <td>795.26</td>\n",
       "      <td>807.90</td>\n",
       "      <td>792.20</td>\n",
       "      <td>806.15</td>\n",
       "      <td>1,640,200</td>\n",
       "    </tr>\n",
       "    <tr>\n",
       "      <th>4</th>\n",
       "      <td>1/9/2017</td>\n",
       "      <td>806.40</td>\n",
       "      <td>809.97</td>\n",
       "      <td>802.83</td>\n",
       "      <td>806.65</td>\n",
       "      <td>1,272,400</td>\n",
       "    </tr>\n",
       "  </tbody>\n",
       "</table>\n",
       "</div>"
      ],
      "text/plain": [
       "       Date    Open    High     Low   Close     Volume\n",
       "0  1/3/2017  778.81  789.63  775.80  786.14  1,657,300\n",
       "1  1/4/2017  788.36  791.34  783.16  786.90  1,073,000\n",
       "2  1/5/2017  786.08  794.48  785.02  794.02  1,335,200\n",
       "3  1/6/2017  795.26  807.90  792.20  806.15  1,640,200\n",
       "4  1/9/2017  806.40  809.97  802.83  806.65  1,272,400"
      ]
     },
     "execution_count": 270,
     "metadata": {},
     "output_type": "execute_result"
    }
   ],
   "source": [
    "df_test = pd.read_csv(\"Google_Stock_Price_Test.csv\")\n",
    "df_test.head()"
   ]
  },
  {
   "cell_type": "code",
   "execution_count": 271,
   "metadata": {},
   "outputs": [
    {
     "data": {
      "text/plain": [
       "Date      0\n",
       "Open      0\n",
       "High      0\n",
       "Low       0\n",
       "Close     0\n",
       "Volume    0\n",
       "dtype: int64"
      ]
     },
     "execution_count": 271,
     "metadata": {},
     "output_type": "execute_result"
    }
   ],
   "source": [
    "df_train.isna().sum()"
   ]
  },
  {
   "cell_type": "code",
   "execution_count": 272,
   "metadata": {},
   "outputs": [
    {
     "data": {
      "text/plain": [
       "Date      0\n",
       "Open      0\n",
       "High      0\n",
       "Low       0\n",
       "Close     0\n",
       "Volume    0\n",
       "dtype: int64"
      ]
     },
     "execution_count": 272,
     "metadata": {},
     "output_type": "execute_result"
    }
   ],
   "source": [
    "df_test.isna().sum()"
   ]
  },
  {
   "cell_type": "code",
   "execution_count": 273,
   "metadata": {},
   "outputs": [
    {
     "data": {
      "text/plain": [
       "Date       object\n",
       "Open      float64\n",
       "High      float64\n",
       "Low       float64\n",
       "Close      object\n",
       "Volume     object\n",
       "dtype: object"
      ]
     },
     "execution_count": 273,
     "metadata": {},
     "output_type": "execute_result"
    }
   ],
   "source": [
    "df_train.dtypes"
   ]
  },
  {
   "cell_type": "code",
   "execution_count": 274,
   "metadata": {},
   "outputs": [
    {
     "data": {
      "text/plain": [
       "Date       object\n",
       "Open      float64\n",
       "High      float64\n",
       "Low       float64\n",
       "Close     float64\n",
       "Volume     object\n",
       "dtype: object"
      ]
     },
     "execution_count": 274,
     "metadata": {},
     "output_type": "execute_result"
    }
   ],
   "source": [
    "df_test.dtypes"
   ]
  },
  {
   "cell_type": "code",
   "execution_count": 275,
   "metadata": {},
   "outputs": [],
   "source": [
    "df_train[\"Close\"] = np.array([i.replace(\",\",\"\") for i in df_train[\"Close\"]]).astype(float)\n",
    "df_train[\"Volume\"] = np.array([i.replace(\",\",\"\") for i in df_train[\"Volume\"]]).astype(float)\n",
    "\n",
    "df_test[\"Volume\"] = np.array([i.replace(\",\",\"\") for i in df_test[\"Volume\"]]).astype(float)"
   ]
  },
  {
   "cell_type": "code",
   "execution_count": 276,
   "metadata": {},
   "outputs": [
    {
     "data": {
      "text/plain": [
       "Date       object\n",
       "Open      float64\n",
       "High      float64\n",
       "Low       float64\n",
       "Close     float64\n",
       "Volume    float64\n",
       "dtype: object"
      ]
     },
     "execution_count": 276,
     "metadata": {},
     "output_type": "execute_result"
    }
   ],
   "source": [
    "df_train.dtypes"
   ]
  },
  {
   "cell_type": "code",
   "execution_count": 277,
   "metadata": {},
   "outputs": [
    {
     "data": {
      "text/plain": [
       "Date       object\n",
       "Open      float64\n",
       "High      float64\n",
       "Low       float64\n",
       "Close     float64\n",
       "Volume    float64\n",
       "dtype: object"
      ]
     },
     "execution_count": 277,
     "metadata": {},
     "output_type": "execute_result"
    }
   ],
   "source": [
    "df_test.dtypes"
   ]
  },
  {
   "cell_type": "code",
   "execution_count": 278,
   "metadata": {},
   "outputs": [
    {
     "data": {
      "text/html": [
       "<div>\n",
       "<style scoped>\n",
       "    .dataframe tbody tr th:only-of-type {\n",
       "        vertical-align: middle;\n",
       "    }\n",
       "\n",
       "    .dataframe tbody tr th {\n",
       "        vertical-align: top;\n",
       "    }\n",
       "\n",
       "    .dataframe thead th {\n",
       "        text-align: right;\n",
       "    }\n",
       "</style>\n",
       "<table border=\"1\" class=\"dataframe\">\n",
       "  <thead>\n",
       "    <tr style=\"text-align: right;\">\n",
       "      <th></th>\n",
       "      <th>count</th>\n",
       "      <th>mean</th>\n",
       "      <th>std</th>\n",
       "      <th>min</th>\n",
       "      <th>25%</th>\n",
       "      <th>50%</th>\n",
       "      <th>75%</th>\n",
       "      <th>max</th>\n",
       "    </tr>\n",
       "  </thead>\n",
       "  <tbody>\n",
       "    <tr>\n",
       "      <th>Open</th>\n",
       "      <td>1258.0</td>\n",
       "      <td>533.71</td>\n",
       "      <td>151.90</td>\n",
       "      <td>279.12</td>\n",
       "      <td>404.12</td>\n",
       "      <td>537.47</td>\n",
       "      <td>654.92</td>\n",
       "      <td>816.68</td>\n",
       "    </tr>\n",
       "    <tr>\n",
       "      <th>High</th>\n",
       "      <td>1258.0</td>\n",
       "      <td>537.88</td>\n",
       "      <td>153.01</td>\n",
       "      <td>281.21</td>\n",
       "      <td>406.76</td>\n",
       "      <td>540.75</td>\n",
       "      <td>662.59</td>\n",
       "      <td>816.68</td>\n",
       "    </tr>\n",
       "    <tr>\n",
       "      <th>Low</th>\n",
       "      <td>1258.0</td>\n",
       "      <td>529.01</td>\n",
       "      <td>150.55</td>\n",
       "      <td>277.22</td>\n",
       "      <td>401.76</td>\n",
       "      <td>532.99</td>\n",
       "      <td>644.80</td>\n",
       "      <td>805.14</td>\n",
       "    </tr>\n",
       "    <tr>\n",
       "      <th>Close</th>\n",
       "      <td>1258.0</td>\n",
       "      <td>712.67</td>\n",
       "      <td>164.75</td>\n",
       "      <td>491.20</td>\n",
       "      <td>576.74</td>\n",
       "      <td>695.68</td>\n",
       "      <td>782.10</td>\n",
       "      <td>1216.83</td>\n",
       "    </tr>\n",
       "    <tr>\n",
       "      <th>Volume</th>\n",
       "      <td>1258.0</td>\n",
       "      <td>3158106.76</td>\n",
       "      <td>2273725.58</td>\n",
       "      <td>7900.00</td>\n",
       "      <td>1621700.00</td>\n",
       "      <td>2566150.00</td>\n",
       "      <td>4122500.00</td>\n",
       "      <td>24977900.00</td>\n",
       "    </tr>\n",
       "  </tbody>\n",
       "</table>\n",
       "</div>"
      ],
      "text/plain": [
       "         count        mean         std      min         25%         50%  \\\n",
       "Open    1258.0      533.71      151.90   279.12      404.12      537.47   \n",
       "High    1258.0      537.88      153.01   281.21      406.76      540.75   \n",
       "Low     1258.0      529.01      150.55   277.22      401.76      532.99   \n",
       "Close   1258.0      712.67      164.75   491.20      576.74      695.68   \n",
       "Volume  1258.0  3158106.76  2273725.58  7900.00  1621700.00  2566150.00   \n",
       "\n",
       "               75%          max  \n",
       "Open        654.92       816.68  \n",
       "High        662.59       816.68  \n",
       "Low         644.80       805.14  \n",
       "Close       782.10      1216.83  \n",
       "Volume  4122500.00  24977900.00  "
      ]
     },
     "execution_count": 278,
     "metadata": {},
     "output_type": "execute_result"
    }
   ],
   "source": [
    "df_train.describe().transpose().round(2)"
   ]
  },
  {
   "cell_type": "code",
   "execution_count": 279,
   "metadata": {},
   "outputs": [
    {
     "data": {
      "text/html": [
       "<div>\n",
       "<style scoped>\n",
       "    .dataframe tbody tr th:only-of-type {\n",
       "        vertical-align: middle;\n",
       "    }\n",
       "\n",
       "    .dataframe tbody tr th {\n",
       "        vertical-align: top;\n",
       "    }\n",
       "\n",
       "    .dataframe thead th {\n",
       "        text-align: right;\n",
       "    }\n",
       "</style>\n",
       "<table border=\"1\" class=\"dataframe\">\n",
       "  <thead>\n",
       "    <tr style=\"text-align: right;\">\n",
       "      <th></th>\n",
       "      <th>count</th>\n",
       "      <th>mean</th>\n",
       "      <th>std</th>\n",
       "      <th>min</th>\n",
       "      <th>25%</th>\n",
       "      <th>50%</th>\n",
       "      <th>75%</th>\n",
       "      <th>max</th>\n",
       "    </tr>\n",
       "  </thead>\n",
       "  <tbody>\n",
       "    <tr>\n",
       "      <th>Open</th>\n",
       "      <td>20.0</td>\n",
       "      <td>807.53</td>\n",
       "      <td>15.13</td>\n",
       "      <td>778.81</td>\n",
       "      <td>802.96</td>\n",
       "      <td>807.00</td>\n",
       "      <td>809.56</td>\n",
       "      <td>837.81</td>\n",
       "    </tr>\n",
       "    <tr>\n",
       "      <th>High</th>\n",
       "      <td>20.0</td>\n",
       "      <td>811.93</td>\n",
       "      <td>14.38</td>\n",
       "      <td>789.63</td>\n",
       "      <td>806.74</td>\n",
       "      <td>808.64</td>\n",
       "      <td>817.10</td>\n",
       "      <td>841.95</td>\n",
       "    </tr>\n",
       "    <tr>\n",
       "      <th>Low</th>\n",
       "      <td>20.0</td>\n",
       "      <td>801.95</td>\n",
       "      <td>13.28</td>\n",
       "      <td>775.80</td>\n",
       "      <td>797.43</td>\n",
       "      <td>801.53</td>\n",
       "      <td>804.48</td>\n",
       "      <td>827.01</td>\n",
       "    </tr>\n",
       "    <tr>\n",
       "      <th>Close</th>\n",
       "      <td>20.0</td>\n",
       "      <td>807.90</td>\n",
       "      <td>13.21</td>\n",
       "      <td>786.14</td>\n",
       "      <td>802.28</td>\n",
       "      <td>806.11</td>\n",
       "      <td>810.76</td>\n",
       "      <td>835.67</td>\n",
       "    </tr>\n",
       "    <tr>\n",
       "      <th>Volume</th>\n",
       "      <td>20.0</td>\n",
       "      <td>1659895.00</td>\n",
       "      <td>677474.74</td>\n",
       "      <td>919300.00</td>\n",
       "      <td>1248500.00</td>\n",
       "      <td>1418050.00</td>\n",
       "      <td>1743400.00</td>\n",
       "      <td>3246600.00</td>\n",
       "    </tr>\n",
       "  </tbody>\n",
       "</table>\n",
       "</div>"
      ],
      "text/plain": [
       "        count        mean        std        min         25%         50%  \\\n",
       "Open     20.0      807.53      15.13     778.81      802.96      807.00   \n",
       "High     20.0      811.93      14.38     789.63      806.74      808.64   \n",
       "Low      20.0      801.95      13.28     775.80      797.43      801.53   \n",
       "Close    20.0      807.90      13.21     786.14      802.28      806.11   \n",
       "Volume   20.0  1659895.00  677474.74  919300.00  1248500.00  1418050.00   \n",
       "\n",
       "               75%         max  \n",
       "Open        809.56      837.81  \n",
       "High        817.10      841.95  \n",
       "Low         804.48      827.01  \n",
       "Close       810.76      835.67  \n",
       "Volume  1743400.00  3246600.00  "
      ]
     },
     "execution_count": 279,
     "metadata": {},
     "output_type": "execute_result"
    }
   ],
   "source": [
    "df_test.describe().transpose().round(2)"
   ]
  },
  {
   "cell_type": "markdown",
   "metadata": {},
   "source": [
    "Data are quite centered around the mean (regarding median ~ mean), it seems that there are no outliers then we can pre-suppose that the evolution is more or less linear."
   ]
  },
  {
   "cell_type": "code",
   "execution_count": 280,
   "metadata": {
    "scrolled": true
   },
   "outputs": [
    {
     "data": {
      "text/plain": [
       "<matplotlib.legend.Legend at 0x1bfabd9a4c8>"
      ]
     },
     "execution_count": 280,
     "metadata": {},
     "output_type": "execute_result"
    },
    {
     "data": {
      "image/png": "[encoded data removed]",
      "text/plain": [
       "<Figure size 1152x720 with 1 Axes>"
      ]
     },
     "metadata": {
      "needs_background": "light"
     },
     "output_type": "display_data"
    }
   ],
   "source": [
    "plt.title(\"Opening/Closing Stock Price\")\n",
    "plt.xlabel(\"Date\")\n",
    "plt.ylabel(\"$ stock price\")\n",
    "plt.xticks(np.arange(0, len(df_train[\"Date\"]), 200)) \n",
    "plt.plot()\n",
    "plt.plot(df_train[\"Date\"], df_train[\"Open\"], color='blue', linewidth=4, label=\"Open\")\n",
    "plt.plot(df_train[\"Date\"], df_train[\"Close\"], color='red', linewidth=2, label=\"Close\")\n",
    "plt.legend()"
   ]
  },
  {
   "cell_type": "code",
   "execution_count": 281,
   "metadata": {
    "scrolled": true
   },
   "outputs": [
    {
     "data": {
      "text/plain": [
       "<matplotlib.legend.Legend at 0x1bfac0c3408>"
      ]
     },
     "execution_count": 281,
     "metadata": {},
     "output_type": "execute_result"
    },
    {
     "data": {
      "image/png": "[encoded data removed]",
      "text/plain": [
       "<Figure size 1152x720 with 1 Axes>"
      ]
     },
     "metadata": {
      "needs_background": "light"
     },
     "output_type": "display_data"
    }
   ],
   "source": [
    "plt.title(\"High/Low Stock Price\")\n",
    "plt.xlabel(\"Date\")\n",
    "plt.ylabel(\"$ stock price\")\n",
    "plt.xticks(np.arange(0, len(df_train[\"Date\"]), 200)) \n",
    "plt.plot(df_train[\"Date\"], df_train[\"Low\"], color='blue', linewidth=4, label=\"Low\")\n",
    "plt.plot(df_train[\"Date\"], df_train[\"High\"], color='red', linewidth=2, label=\"High\")\n",
    "plt.legend()"
   ]
  },
  {
   "cell_type": "markdown",
   "metadata": {},
   "source": [
    "We cn observe a strange behavior on the data regarding to the close price. It seems that the data are not accurate until 23-5-2014\n",
    "\n",
    "we are going to scale the feature."
   ]
  },
  {
   "cell_type": "code",
   "execution_count": 282,
   "metadata": {},
   "outputs": [
    {
     "data": {
      "text/plain": [
       "array([[0.08581368],\n",
       "       [0.09701243],\n",
       "       [0.09433366],\n",
       "       ...,\n",
       "       [0.95725128],\n",
       "       [0.93796041],\n",
       "       [0.93688146]])"
      ]
     },
     "execution_count": 282,
     "metadata": {},
     "output_type": "execute_result"
    }
   ],
   "source": [
    "X_train = df_train[[\"Open\"]].values\n",
    "\n",
    "scaler = MinMaxScaler()\n",
    "X_train_scaled = scaler.fit_transform(X_train)\n",
    "\n",
    "X_train_scaled"
   ]
  },
  {
   "cell_type": "markdown",
   "metadata": {},
   "source": [
    "We are going to create timesteps in order to give a row the last days values : \n",
    "here we will choose two month (~60 days)"
   ]
  },
  {
   "cell_type": "code",
   "execution_count": 283,
   "metadata": {},
   "outputs": [],
   "source": [
    "_days_range = 60"
   ]
  },
  {
   "cell_type": "code",
   "execution_count": 284,
   "metadata": {},
   "outputs": [],
   "source": [
    "X_train = []\n",
    "y_train = []\n",
    "for i in range(_days_range, X_train_scaled.shape[0]):\n",
    "    X_train.append(X_train_scaled[i-_days_range:i, 0])\n",
    "    y_train.append(X_train_scaled[i, 0])"
   ]
  },
  {
   "cell_type": "code",
   "execution_count": 285,
   "metadata": {},
   "outputs": [],
   "source": [
    "X_train = np.array(X_train)\n",
    "y_train = np.array(y_train)"
   ]
  },
  {
   "cell_type": "code",
   "execution_count": 286,
   "metadata": {},
   "outputs": [],
   "source": [
    "X_train = np.reshape(X_train, (X_train.shape[0], X_train.shape[1], 1))"
   ]
  },
  {
   "cell_type": "code",
   "execution_count": 287,
   "metadata": {},
   "outputs": [
    {
     "data": {
      "text/plain": [
       "array([[0.08581368],\n",
       "       [0.09701243],\n",
       "       [0.09433366],\n",
       "       [0.09156187],\n",
       "       [0.07984225],\n",
       "       [0.0643277 ],\n",
       "       [0.0585423 ],\n",
       "       [0.06568569],\n",
       "       [0.06109085],\n",
       "       [0.06639259],\n",
       "       [0.0614257 ],\n",
       "       [0.07474514],\n",
       "       [0.02797827],\n",
       "       [0.02379269],\n",
       "       [0.02409033],\n",
       "       [0.0159238 ],\n",
       "       [0.01078949],\n",
       "       [0.00967334],\n",
       "       [0.01642607],\n",
       "       [0.02100231],\n",
       "       [0.02280676],\n",
       "       [0.02273235],\n",
       "       [0.02810849],\n",
       "       [0.03212665],\n",
       "       [0.0433812 ],\n",
       "       [0.04475779],\n",
       "       [0.04790163],\n",
       "       [0.0440695 ],\n",
       "       [0.04648783],\n",
       "       [0.04745517],\n",
       "       [0.04873875],\n",
       "       [0.03936305],\n",
       "       [0.04137213],\n",
       "       [0.04034898],\n",
       "       [0.04784582],\n",
       "       [0.04325099],\n",
       "       [0.04356723],\n",
       "       [0.04286033],\n",
       "       [0.04602277],\n",
       "       [0.05398467],\n",
       "       [0.05738894],\n",
       "       [0.05714711],\n",
       "       [0.05569611],\n",
       "       [0.04421832],\n",
       "       [0.04514845],\n",
       "       [0.04605997],\n",
       "       [0.04412531],\n",
       "       [0.03675869],\n",
       "       [0.04486941],\n",
       "       [0.05065481],\n",
       "       [0.05214302],\n",
       "       [0.05612397],\n",
       "       [0.05818885],\n",
       "       [0.06540665],\n",
       "       [0.06882953],\n",
       "       [0.07243843],\n",
       "       [0.07993526],\n",
       "       [0.07846566],\n",
       "       [0.08034452],\n",
       "       [0.08497656]])"
      ]
     },
     "execution_count": 287,
     "metadata": {},
     "output_type": "execute_result"
    }
   ],
   "source": [
    "X_train[0]"
   ]
  },
  {
   "cell_type": "code",
   "execution_count": 288,
   "metadata": {},
   "outputs": [
    {
     "data": {
      "text/plain": [
       "1278"
      ]
     },
     "execution_count": 288,
     "metadata": {},
     "output_type": "execute_result"
    }
   ],
   "source": [
    "df = pd.concat([df_train[\"Open\"], df_test[\"Open\"]], axis = 0)\n",
    "len(df)"
   ]
  },
  {
   "cell_type": "code",
   "execution_count": 289,
   "metadata": {},
   "outputs": [],
   "source": [
    "X_test = df[df.shape[0]-df_test.shape[0]-_days_range:].values\n",
    "X_test = X_test.reshape(-1,1)\n",
    "X_test_scaled = scaler.transform(X_test)"
   ]
  },
  {
   "cell_type": "code",
   "execution_count": 290,
   "metadata": {},
   "outputs": [],
   "source": [
    "X_test = []\n",
    "for i in range(_days_range, X_test_scaled.shape[0]):\n",
    "    X_test.append(X_test_scaled[i-_days_range:i, 0])\n",
    "X_test = np.array(X_test)\n",
    "X_test = np.reshape(X_test, (X_test.shape[0], X_test.shape[1], 1))"
   ]
  },
  {
   "cell_type": "code",
   "execution_count": 291,
   "metadata": {},
   "outputs": [
    {
     "data": {
      "text/plain": [
       "(20, 60, 1)"
      ]
     },
     "execution_count": 291,
     "metadata": {},
     "output_type": "execute_result"
    }
   ],
   "source": [
    "X_test.shape"
   ]
  },
  {
   "cell_type": "code",
   "execution_count": 292,
   "metadata": {},
   "outputs": [
    {
     "data": {
      "text/plain": [
       "array([[0.92841729],\n",
       "       [0.90804747],\n",
       "       [0.8771858 ],\n",
       "       [0.92153434],\n",
       "       [0.93809063],\n",
       "       [0.93165414],\n",
       "       [0.95254483],\n",
       "       [0.88812412],\n",
       "       [0.88637547],\n",
       "       [0.87032145],\n",
       "       [0.88563137],\n",
       "       [0.90743359],\n",
       "       [0.91571173],\n",
       "       [0.89941588],\n",
       "       [0.91805566],\n",
       "       [0.9089404 ],\n",
       "       [0.9024853 ],\n",
       "       [0.89456061],\n",
       "       [0.91600938],\n",
       "       [0.9132934 ],\n",
       "       [0.88979835],\n",
       "       [0.86589404],\n",
       "       [0.89030062],\n",
       "       [0.90335962],\n",
       "       [0.89642086],\n",
       "       [0.91777662],\n",
       "       [0.93176576],\n",
       "       [0.94114145],\n",
       "       [0.95762334],\n",
       "       [0.96413424],\n",
       "       [0.96402262],\n",
       "       [0.96971501],\n",
       "       [0.95077759],\n",
       "       [0.96294367],\n",
       "       [0.96123223],\n",
       "       [0.95475854],\n",
       "       [0.95204256],\n",
       "       [0.95163331],\n",
       "       [0.95725128],\n",
       "       [0.93796041],\n",
       "       [0.93688146],\n",
       "       [0.92955205],\n",
       "       [0.94731751],\n",
       "       [0.94307612],\n",
       "       [0.96015329],\n",
       "       [0.98087655],\n",
       "       [0.98359253],\n",
       "       [0.97827219],\n",
       "       [0.98225314],\n",
       "       [0.98288563],\n",
       "       [0.98214153],\n",
       "       [0.979779  ],\n",
       "       [0.97849542],\n",
       "       [0.98182528],\n",
       "       [0.98245777],\n",
       "       [1.01045465],\n",
       "       [1.02407173],\n",
       "       [1.03930724],\n",
       "       [1.03354044],\n",
       "       [0.99624228]])"
      ]
     },
     "execution_count": 292,
     "metadata": {},
     "output_type": "execute_result"
    }
   ],
   "source": [
    "X_test[19]"
   ]
  },
  {
   "cell_type": "markdown",
   "metadata": {},
   "source": [
    "## Model\n",
    "\n",
    "### LSTM"
   ]
  },
  {
   "cell_type": "code",
   "execution_count": 305,
   "metadata": {},
   "outputs": [],
   "source": [
    "def lstm_model(input_shape):\n",
    "    model = Sequential()\n",
    "    model.add(LSTM(units=256, return_sequences=True, input_shape=input_shape))\n",
    "    model.add(Dropout(0.3))\n",
    "    model.add(LSTM(units=256, return_sequences=True))\n",
    "    model.add(Dropout(0.2))\n",
    "    model.add(LSTM(units=128, return_sequences=True))\n",
    "    model.add(Dropout(0.2))\n",
    "    model.add(LSTM(units=128, return_sequences=False))\n",
    "    model.add(Dropout(0.1))\n",
    "    model.add(Dense(units=128))\n",
    "    model.add(Dense(units=64))\n",
    "    model.add(Dense(units=1))\n",
    "    \n",
    "    model.compile(optimizer=\"adam\", loss=\"mean_squared_error\")\n",
    "    return model"
   ]
  },
  {
   "cell_type": "code",
   "execution_count": 306,
   "metadata": {},
   "outputs": [],
   "source": [
    "model = lstm_model((X_train.shape[1],1))"
   ]
  },
  {
   "cell_type": "code",
   "execution_count": 307,
   "metadata": {
    "scrolled": true
   },
   "outputs": [
    {
     "name": "stdout",
     "output_type": "stream",
     "text": [
      "Epoch 1/50\n",
      "1198/1198 [==============================] - 17s 14ms/step - loss: 0.0211\n",
      "Epoch 2/50\n",
      "1198/1198 [==============================] - 16s 13ms/step - loss: 0.0035\n",
      "Epoch 3/50\n",
      "1198/1198 [==============================] - 16s 13ms/step - loss: 0.0026\n",
      "Epoch 4/50\n",
      "1198/1198 [==============================] - 16s 13ms/step - loss: 0.0028\n",
      "Epoch 5/50\n",
      "1198/1198 [==============================] - 16s 13ms/step - loss: 0.0019\n",
      "Epoch 6/50\n",
      "1198/1198 [==============================] - 16s 13ms/step - loss: 0.0021\n",
      "Epoch 7/50\n",
      "1198/1198 [==============================] - 16s 13ms/step - loss: 0.0019\n",
      "Epoch 8/50\n",
      "1198/1198 [==============================] - 16s 13ms/step - loss: 0.0021\n",
      "Epoch 9/50\n",
      "1198/1198 [==============================] - 16s 13ms/step - loss: 0.0023\n",
      "Epoch 10/50\n",
      "1198/1198 [==============================] - 16s 13ms/step - loss: 0.0017\n",
      "Epoch 11/50\n",
      "1198/1198 [==============================] - 16s 13ms/step - loss: 0.0016\n",
      "Epoch 12/50\n",
      "1198/1198 [==============================] - 16s 13ms/step - loss: 0.0024\n",
      "Epoch 13/50\n",
      "1198/1198 [==============================] - 16s 13ms/step - loss: 0.0017\n",
      "Epoch 14/50\n",
      "1198/1198 [==============================] - 16s 13ms/step - loss: 0.0015\n",
      "Epoch 15/50\n",
      "1198/1198 [==============================] - 16s 13ms/step - loss: 0.0017\n",
      "Epoch 16/50\n",
      "1198/1198 [==============================] - 16s 13ms/step - loss: 0.0023\n",
      "Epoch 17/50\n",
      "1198/1198 [==============================] - 16s 14ms/step - loss: 0.0015\n",
      "Epoch 18/50\n",
      "1198/1198 [==============================] - 16s 13ms/step - loss: 0.0012\n",
      "Epoch 19/50\n",
      "1198/1198 [==============================] - 16s 13ms/step - loss: 0.0019\n",
      "Epoch 20/50\n",
      "1198/1198 [==============================] - 16s 13ms/step - loss: 0.0013\n",
      "Epoch 21/50\n",
      "1198/1198 [==============================] - 16s 13ms/step - loss: 0.0011\n",
      "Epoch 22/50\n",
      "1198/1198 [==============================] - 16s 13ms/step - loss: 0.0012\n",
      "Epoch 23/50\n",
      "1198/1198 [==============================] - 16s 13ms/step - loss: 0.0013\n",
      "Epoch 24/50\n",
      "1198/1198 [==============================] - 16s 13ms/step - loss: 0.0013\n",
      "Epoch 25/50\n",
      "1198/1198 [==============================] - 16s 13ms/step - loss: 0.0011\n",
      "Epoch 26/50\n",
      "1198/1198 [==============================] - 16s 13ms/step - loss: 0.0012\n",
      "Epoch 27/50\n",
      "1198/1198 [==============================] - 16s 13ms/step - loss: 0.0011\n",
      "Epoch 28/50\n",
      "1198/1198 [==============================] - 16s 13ms/step - loss: 0.0012\n",
      "Epoch 29/50\n",
      "1198/1198 [==============================] - 16s 13ms/step - loss: 0.0011\n",
      "Epoch 30/50\n",
      "1198/1198 [==============================] - 16s 13ms/step - loss: 9.7273e-04\n",
      "Epoch 31/50\n",
      "1198/1198 [==============================] - 16s 13ms/step - loss: 0.0010\n",
      "Epoch 32/50\n",
      "1198/1198 [==============================] - 16s 13ms/step - loss: 9.3992e-04\n",
      "Epoch 33/50\n",
      "1198/1198 [==============================] - 16s 13ms/step - loss: 0.0014\n",
      "Epoch 34/50\n",
      "1198/1198 [==============================] - 16s 13ms/step - loss: 0.0016\n",
      "Epoch 35/50\n",
      "1198/1198 [==============================] - 16s 13ms/step - loss: 9.4992e-04\n",
      "Epoch 36/50\n",
      "1198/1198 [==============================] - 16s 13ms/step - loss: 0.0011\n",
      "Epoch 37/50\n",
      "1198/1198 [==============================] - 16s 13ms/step - loss: 0.0011\n",
      "Epoch 38/50\n",
      "1198/1198 [==============================] - 16s 13ms/step - loss: 0.0011\n",
      "Epoch 39/50\n",
      "1198/1198 [==============================] - 16s 13ms/step - loss: 9.5145e-04\n",
      "Epoch 40/50\n",
      "1198/1198 [==============================] - 16s 13ms/step - loss: 8.9339e-04\n",
      "Epoch 41/50\n",
      "1198/1198 [==============================] - 16s 13ms/step - loss: 0.0010\n",
      "Epoch 42/50\n",
      "1198/1198 [==============================] - 16s 13ms/step - loss: 8.9590e-04\n",
      "Epoch 43/50\n",
      "1198/1198 [==============================] - 16s 13ms/step - loss: 8.2410e-04\n",
      "Epoch 44/50\n",
      "1198/1198 [==============================] - 16s 13ms/step - loss: 0.0012\n",
      "Epoch 45/50\n",
      "1198/1198 [==============================] - 16s 13ms/step - loss: 0.0014\n",
      "Epoch 46/50\n",
      "1198/1198 [==============================] - 16s 13ms/step - loss: 0.0012\n",
      "Epoch 47/50\n",
      "1198/1198 [==============================] - 16s 13ms/step - loss: 9.6273e-04\n",
      "Epoch 48/50\n",
      "1198/1198 [==============================] - 16s 13ms/step - loss: 0.0011\n",
      "Epoch 49/50\n",
      "1198/1198 [==============================] - 16s 13ms/step - loss: 9.7748e-04\n",
      "Epoch 50/50\n",
      "1198/1198 [==============================] - 16s 13ms/step - loss: 8.1543e-04\n"
     ]
    },
    {
     "data": {
      "text/plain": [
       "<keras.callbacks.callbacks.History at 0x1bfb9724c88>"
      ]
     },
     "execution_count": 307,
     "metadata": {},
     "output_type": "execute_result"
    }
   ],
   "source": [
    "model.fit(X_train, y_train, epochs=50, batch_size = 32)"
   ]
  },
  {
   "cell_type": "code",
   "execution_count": 308,
   "metadata": {},
   "outputs": [],
   "source": [
    "y_pred = model.predict(X_test)"
   ]
  },
  {
   "cell_type": "code",
   "execution_count": 309,
   "metadata": {},
   "outputs": [],
   "source": [
    "y_pred_real = scaler.inverse_transform(y_pred)"
   ]
  },
  {
   "cell_type": "code",
   "execution_count": 310,
   "metadata": {},
   "outputs": [
    {
     "data": {
      "text/plain": [
       "<matplotlib.legend.Legend at 0x1bfbb812688>"
      ]
     },
     "execution_count": 310,
     "metadata": {},
     "output_type": "execute_result"
    },
    {
     "data": {
      "image/png": "[encoded data removed]",
      "text/plain": [
       "<Figure size 1152x720 with 1 Axes>"
      ]
     },
     "metadata": {
      "needs_background": "light"
     },
     "output_type": "display_data"
    }
   ],
   "source": [
    "plt.title(\"Predicted/True Stock Price\")\n",
    "plt.xlabel(\"Date\")\n",
    "plt.ylabel(\"$ stock price\")\n",
    "plt.plot()\n",
    "plt.plot(df_test[\"Open\"], color='blue', linewidth=4, label=\"True\")\n",
    "plt.plot(y_pred_real, color='red', linewidth=2, label=\"Predicted\")\n",
    "plt.legend()"
   ]
  },
  {
   "cell_type": "markdown",
   "metadata": {},
   "source": [
    "### GRU"
   ]
  },
  {
   "cell_type": "code",
   "execution_count": 312,
   "metadata": {},
   "outputs": [],
   "source": [
    "def gru_model(input_shape):\n",
    "    model = Sequential()\n",
    "    model.add(GRU(units=256, return_sequences=True, input_shape=input_shape))\n",
    "    model.add(Dropout(0.3))\n",
    "    model.add(GRU(units=256, return_sequences=True))\n",
    "    model.add(Dropout(0.2))\n",
    "    model.add(GRU(units=128, return_sequences=True))\n",
    "    model.add(Dropout(0.2))\n",
    "    model.add(GRU(units=128, return_sequences=False))\n",
    "    model.add(Dropout(0.1))\n",
    "    model.add(Dense(units=128))\n",
    "    model.add(Dense(units=64))\n",
    "    model.add(Dense(units=1))\n",
    "    \n",
    "    model.compile(optimizer=\"adam\", loss=\"mean_squared_error\", metrics=[\"mean_squared_error\"])\n",
    "    return model"
   ]
  },
  {
   "cell_type": "code",
   "execution_count": 313,
   "metadata": {},
   "outputs": [],
   "source": [
    "model = gru_model((X_train.shape[1],1))"
   ]
  },
  {
   "cell_type": "code",
   "execution_count": 314,
   "metadata": {},
   "outputs": [
    {
     "name": "stdout",
     "output_type": "stream",
     "text": [
      "Epoch 1/50\n",
      "1198/1198 [==============================] - 19s 16ms/step - loss: 0.0240 - mean_squared_error: 0.0240\n",
      "Epoch 2/50\n",
      "1198/1198 [==============================] - 17s 14ms/step - loss: 0.0022 - mean_squared_error: 0.0022\n",
      "Epoch 3/50\n",
      "1198/1198 [==============================] - 17s 14ms/step - loss: 0.0021 - mean_squared_error: 0.0021\n",
      "Epoch 4/50\n",
      "1198/1198 [==============================] - 17s 14ms/step - loss: 0.0019 - mean_squared_error: 0.0019\n",
      "Epoch 5/50\n",
      "1198/1198 [==============================] - 17s 14ms/step - loss: 0.0020 - mean_squared_error: 0.0020\n",
      "Epoch 6/50\n",
      "1198/1198 [==============================] - 17s 14ms/step - loss: 0.0017 - mean_squared_error: 0.0017\n",
      "Epoch 7/50\n",
      "1198/1198 [==============================] - 17s 14ms/step - loss: 0.0016 - mean_squared_error: 0.0016\n",
      "Epoch 8/50\n",
      "1198/1198 [==============================] - 17s 14ms/step - loss: 0.0015 - mean_squared_error: 0.0015\n",
      "Epoch 9/50\n",
      "1198/1198 [==============================] - 17s 14ms/step - loss: 0.0016 - mean_squared_error: 0.0016\n",
      "Epoch 10/50\n",
      "1198/1198 [==============================] - 17s 14ms/step - loss: 0.0012 - mean_squared_error: 0.0012\n",
      "Epoch 11/50\n",
      "1198/1198 [==============================] - 17s 14ms/step - loss: 0.0013 - mean_squared_error: 0.0013\n",
      "Epoch 12/50\n",
      "1198/1198 [==============================] - 17s 14ms/step - loss: 0.0011 - mean_squared_error: 0.0011\n",
      "Epoch 13/50\n",
      "1198/1198 [==============================] - 17s 14ms/step - loss: 0.0012 - mean_squared_error: 0.0012\n",
      "Epoch 14/50\n",
      "1198/1198 [==============================] - 17s 14ms/step - loss: 0.0011 - mean_squared_error: 0.0011\n",
      "Epoch 15/50\n",
      "1198/1198 [==============================] - 17s 14ms/step - loss: 0.0013 - mean_squared_error: 0.0013\n",
      "Epoch 16/50\n",
      "1198/1198 [==============================] - 17s 14ms/step - loss: 0.0010 - mean_squared_error: 0.0010\n",
      "Epoch 17/50\n",
      "1198/1198 [==============================] - 17s 14ms/step - loss: 0.0011 - mean_squared_error: 0.0011\n",
      "Epoch 18/50\n",
      "1198/1198 [==============================] - 17s 14ms/step - loss: 9.3773e-04 - mean_squared_error: 9.3773e-04\n",
      "Epoch 19/50\n",
      "1198/1198 [==============================] - 17s 14ms/step - loss: 9.8916e-04 - mean_squared_error: 9.8916e-04\n",
      "Epoch 20/50\n",
      "1198/1198 [==============================] - 17s 14ms/step - loss: 0.0011 - mean_squared_error: 0.0011\n",
      "Epoch 21/50\n",
      "1198/1198 [==============================] - 17s 14ms/step - loss: 0.0013 - mean_squared_error: 0.0013\n",
      "Epoch 22/50\n",
      "1198/1198 [==============================] - 17s 14ms/step - loss: 0.0013 - mean_squared_error: 0.0013\n",
      "Epoch 23/50\n",
      "1198/1198 [==============================] - 17s 14ms/step - loss: 9.3824e-04 - mean_squared_error: 9.3824e-04\n",
      "Epoch 24/50\n",
      "1198/1198 [==============================] - 17s 14ms/step - loss: 8.4972e-04 - mean_squared_error: 8.4972e-04\n",
      "Epoch 25/50\n",
      "1198/1198 [==============================] - 17s 14ms/step - loss: 0.0010 - mean_squared_error: 0.0010\n",
      "Epoch 26/50\n",
      "1198/1198 [==============================] - 17s 14ms/step - loss: 8.6819e-04 - mean_squared_error: 8.6819e-04\n",
      "Epoch 27/50\n",
      "1198/1198 [==============================] - 17s 14ms/step - loss: 9.3032e-04 - mean_squared_error: 9.3032e-04\n",
      "Epoch 28/50\n",
      "1198/1198 [==============================] - 17s 14ms/step - loss: 9.7424e-04 - mean_squared_error: 9.7424e-04\n",
      "Epoch 29/50\n",
      "1198/1198 [==============================] - 17s 14ms/step - loss: 8.0313e-04 - mean_squared_error: 8.0313e-04\n",
      "Epoch 30/50\n",
      "1198/1198 [==============================] - 17s 14ms/step - loss: 8.4013e-04 - mean_squared_error: 8.4013e-04\n",
      "Epoch 31/50\n",
      "1198/1198 [==============================] - 17s 15ms/step - loss: 9.8352e-04 - mean_squared_error: 9.8352e-04\n",
      "Epoch 32/50\n",
      "1198/1198 [==============================] - 17s 14ms/step - loss: 7.4767e-04 - mean_squared_error: 7.4767e-04\n",
      "Epoch 33/50\n",
      "1198/1198 [==============================] - 17s 14ms/step - loss: 8.3981e-04 - mean_squared_error: 8.3981e-04\n",
      "Epoch 34/50\n",
      "1198/1198 [==============================] - 17s 14ms/step - loss: 7.2201e-04 - mean_squared_error: 7.2201e-04\n",
      "Epoch 35/50\n",
      "1198/1198 [==============================] - 17s 14ms/step - loss: 7.5305e-04 - mean_squared_error: 7.5305e-04\n",
      "Epoch 36/50\n",
      "1198/1198 [==============================] - 17s 14ms/step - loss: 7.8046e-04 - mean_squared_error: 7.8046e-04\n",
      "Epoch 37/50\n",
      "1198/1198 [==============================] - 17s 14ms/step - loss: 8.4888e-04 - mean_squared_error: 8.4888e-04\n",
      "Epoch 38/50\n",
      "1198/1198 [==============================] - 17s 14ms/step - loss: 8.1088e-04 - mean_squared_error: 8.1088e-04\n",
      "Epoch 39/50\n",
      "1198/1198 [==============================] - 17s 14ms/step - loss: 7.0915e-04 - mean_squared_error: 7.0915e-04\n",
      "Epoch 40/50\n",
      "1198/1198 [==============================] - 17s 14ms/step - loss: 6.6751e-04 - mean_squared_error: 6.6751e-04\n",
      "Epoch 41/50\n",
      "1198/1198 [==============================] - 17s 14ms/step - loss: 7.3108e-04 - mean_squared_error: 7.3108e-04\n",
      "Epoch 42/50\n",
      "1198/1198 [==============================] - 17s 14ms/step - loss: 6.1550e-04 - mean_squared_error: 6.1550e-04\n",
      "Epoch 43/50\n",
      "1198/1198 [==============================] - 17s 14ms/step - loss: 7.8981e-04 - mean_squared_error: 7.8981e-04\n",
      "Epoch 44/50\n",
      "1198/1198 [==============================] - 17s 14ms/step - loss: 9.3075e-04 - mean_squared_error: 9.3075e-04\n",
      "Epoch 45/50\n",
      "1198/1198 [==============================] - 17s 14ms/step - loss: 7.8752e-04 - mean_squared_error: 7.8752e-04\n",
      "Epoch 46/50\n",
      "1198/1198 [==============================] - 17s 14ms/step - loss: 9.3781e-04 - mean_squared_error: 9.3781e-04\n",
      "Epoch 47/50\n",
      "1198/1198 [==============================] - 17s 14ms/step - loss: 0.0013 - mean_squared_error: 0.0013\n",
      "Epoch 48/50\n",
      "1198/1198 [==============================] - 17s 14ms/step - loss: 0.0012 - mean_squared_error: 0.0012\n",
      "Epoch 49/50\n",
      "1198/1198 [==============================] - 17s 14ms/step - loss: 8.9941e-04 - mean_squared_error: 8.9941e-04\n",
      "Epoch 50/50\n",
      "1198/1198 [==============================] - 17s 14ms/step - loss: 7.1005e-04 - mean_squared_error: 7.1005e-04\n"
     ]
    },
    {
     "data": {
      "text/plain": [
       "<keras.callbacks.callbacks.History at 0x1bfbed06cc8>"
      ]
     },
     "execution_count": 314,
     "metadata": {},
     "output_type": "execute_result"
    }
   ],
   "source": [
    "model.fit(X_train, y_train, epochs=50, batch_size = 32)"
   ]
  },
  {
   "cell_type": "code",
   "execution_count": 315,
   "metadata": {},
   "outputs": [],
   "source": [
    "y_pred = model.predict(X_test)"
   ]
  },
  {
   "cell_type": "code",
   "execution_count": 316,
   "metadata": {},
   "outputs": [],
   "source": [
    "y_pred_real = scaler.inverse_transform(y_pred)"
   ]
  },
  {
   "cell_type": "code",
   "execution_count": 317,
   "metadata": {},
   "outputs": [
    {
     "data": {
      "text/plain": [
       "<matplotlib.legend.Legend at 0x1bfd0d94ac8>"
      ]
     },
     "execution_count": 317,
     "metadata": {},
     "output_type": "execute_result"
    },
    {
     "data": {
      "image/png": "[encoded data removed]",
      "text/plain": [
       "<Figure size 1152x720 with 1 Axes>"
      ]
     },
     "metadata": {
      "needs_background": "light"
     },
     "output_type": "display_data"
    }
   ],
   "source": [
    "plt.title(\"Predicted/True Stock Price GRU\")\n",
    "plt.xlabel(\"Date\")\n",
    "plt.ylabel(\"$ stock price\")\n",
    "plt.plot()\n",
    "plt.plot(df_test[\"Open\"], color='blue', linewidth=4, label=\"True\")\n",
    "plt.plot(y_pred_real, color='red', linewidth=2, label=\"Predicted\")\n",
    "plt.legend()"
   ]
  },
  {
   "cell_type": "code",
   "execution_count": null,
   "metadata": {},
   "outputs": [],
   "source": []
  }
 ],
 "metadata": {
  "kernelspec": {
   "display_name": "Python 3",
   "language": "python",
   "name": "python3"
  },
  "language_info": {
   "codemirror_mode": {
    "name": "ipython",
    "version": 3
   },
   "file_extension": ".py",
   "mimetype": "text/x-python",
   "name": "python",
   "nbconvert_exporter": "python",
   "pygments_lexer": "ipython3",
   "version": "3.7.7"
  }
 },
 "nbformat": 4,
 "nbformat_minor": 4
}
