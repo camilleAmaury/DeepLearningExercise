{
 "cells": [
  {
   "cell_type": "markdown",
   "metadata": {},
   "source": [
    "# CNN Medal\n",
    "\n",
    "The aim of this exercise is to use the previous dataset explored in CNN.ipynb file and improve it.\n",
    "\n",
    "rules :\n",
    "* can't modify the test and training size\n",
    "* Dropout admitted\n",
    "* Changing optimizer admitted\n",
    "* Don't specify a specific seed\n",
    "\n",
    "Medal :\n",
    "* Bronze : between 80 to 85 % on test dataset\n",
    "* Silver : 85 to 90%\n",
    "* Gold : Upper 90%\n"
   ]
  },
  {
   "cell_type": "code",
   "execution_count": 1,
   "metadata": {},
   "outputs": [
    {
     "name": "stderr",
     "output_type": "stream",
     "text": [
      "Using TensorFlow backend.\n"
     ]
    }
   ],
   "source": [
    "import json\n",
    "import numpy as np\n",
    "import pandas as pd\n",
    "import matplotlib.pyplot as plt\n",
    "# scikit\n",
    "from sklearn.model_selection import train_test_split\n",
    "from sklearn.metrics import confusion_matrix, accuracy_score\n",
    "# keras\n",
    "import keras\n",
    "from keras.models import Sequential\n",
    "from keras.layers import Dense, Dropout\n",
    "from keras.layers import Convolution2D, MaxPooling2D, Flatten\n",
    "from keras.preprocessing.image import ImageDataGenerator\n",
    "from keras.preprocessing import image"
   ]
  },
  {
   "cell_type": "code",
   "execution_count": 58,
   "metadata": {},
   "outputs": [],
   "source": [
    "class Model_CNN():\n",
    "    def __init__(self, cnn_layers, dense_layers, optimizer, loss, metrics, \n",
    "             input_shape, load = False, name = \"model\"):\n",
    "        if load == False:\n",
    "            self._epochDone = 0\n",
    "            self._currentAccuracy = 0\n",
    "            self._batch_size = 32\n",
    "            self._training_size = 8000\n",
    "            self._test_size = 2000\n",
    "            self._image_size = (input_shape[0],input_shape[1])\n",
    "            self._model = Sequential()\n",
    "            # cnn layers\n",
    "            i = 0\n",
    "            for layer in cnn_layers:\n",
    "                # input layer or not\n",
    "                if i == 0:\n",
    "                    self._model.add(Convolution2D(filters=layer[\"filters\"], \n",
    "                        kernel_size=layer[\"kernel_size\"], strides=layer[\"strides\"], \n",
    "                        input_shape=input_shape, activation=layer[\"activation\"]))\n",
    "                else:\n",
    "                    self._model.add(Convolution2D(filters=layer[\"filters\"], \n",
    "                        kernel_size=layer[\"kernel_size\"], strides=layer[\"strides\"], \n",
    "                        activation=layer[\"activation\"]))\n",
    "                # max pooling\n",
    "                if layer[\"maxpooling\"][0]:\n",
    "                    self._model.add(MaxPooling2D(pool_size=layer[\"maxpooling\"][1]))\n",
    "                # dropout\n",
    "                if layer[\"dropout\"][0]:\n",
    "                    self._model.add(Dropout(layer[\"dropout\"][1]))\n",
    "                i+=1\n",
    "            self._model.add(Flatten())\n",
    "\n",
    "            # dense layers\n",
    "            for layer in dense_layers:\n",
    "                self._model.add(Dense(units=layer[\"units\"], activation=layer[\"activation\"]))\n",
    "                # dropout\n",
    "                if layer[\"dropout\"][0]:\n",
    "                    self._model.add(Dropout(layer[\"dropout\"][1]))\n",
    "\n",
    "            self._model.compile(optimizer=optimizer, loss=loss, metrics=metrics)\n",
    "        else:\n",
    "            self.load_network(name)\n",
    "        self._model.summary()\n",
    "            \n",
    "        \n",
    "    def train(self, epochs, name):\n",
    "        train_datagen = ImageDataGenerator(rescale=1./255, shear_range=0.2,\n",
    "                                zoom_range=0.2,horizontal_flip=True)\n",
    "\n",
    "        # same for the test set\n",
    "        test_datagen = ImageDataGenerator(rescale=1./255)\n",
    "\n",
    "        # generate the new images for train dataset\n",
    "        train_generator = train_datagen.flow_from_directory(\n",
    "                    'training_set', target_size=self._image_size,\n",
    "                    batch_size=self._batch_size, class_mode='binary')\n",
    "        # same for the test dataset\n",
    "        test_generator = test_datagen.flow_from_directory(\n",
    "                    'test_set', target_size=self._image_size,\n",
    "                    batch_size=self._batch_size, class_mode='binary')\n",
    "        for i in range(epochs):\n",
    "            # do the job\n",
    "            values = self._model.fit(train_generator,\n",
    "                    steps_per_epoch=int(self._training_size/self._batch_size),\n",
    "                    epochs=1,\n",
    "                    validation_data=test_generator,\n",
    "                    validation_steps=int(self._test_size/self._batch_size))\n",
    "            self._currentAccuracy = values.history['val_accuracy']\n",
    "            self._epochDone += 1\n",
    "            self.save_network(name)\n",
    "            \n",
    "    \n",
    "    def save_network(self, name):\n",
    "        try:\n",
    "            self._model.save('model\\\\{}'.format(name))\n",
    "            network = {\n",
    "                \"_epochDone\":self._epochDone,\n",
    "                \"_currentAccuracy\":self._currentAccuracy,\n",
    "                \"_batch_size\":self._batch_size,\n",
    "                \"_training_size\":self._training_size,\n",
    "                \"_test_size\":self._test_size,\n",
    "                \"_image_size\":self._image_size,\n",
    "                \"_name\":name,\n",
    "            }\n",
    "            with open('model\\\\{}_json.json'.format(name), 'w') as outfile:\n",
    "                json.dump(network, outfile)\n",
    "            print(\"Saving Done Correctly\")\n",
    "        except Exception as inst:\n",
    "            print(\"Saving Failed\")\n",
    "            print(inst)\n",
    "        \n",
    "            \n",
    "    def load_network(self, name):\n",
    "        try:\n",
    "            self._model = keras.models.load_model('model\\\\{}'.format(name))\n",
    "            with open('model\\\\{}_json.json'.format(name)) as json_file:\n",
    "                data = json.load(json_file)\n",
    "                self._epochDone = data[\"_epochDone\"]\n",
    "                self._currentAccuracy = data[\"_currentAccuracy\"]\n",
    "                self._batch_size = data[\"_batch_size\"]\n",
    "                self._training_size = data[\"_training_size\"]\n",
    "                self._test_size = data[\"_test_size\"]\n",
    "                self._image_size = data[\"_image_size\"]\n",
    "                self._name = data[\"_name\"]\n",
    "            print(\"Loading Done Correctly\")\n",
    "        except Exception as inst:\n",
    "            print(\"Loading Failed\")\n",
    "            print(inst)\n",
    "    \n",
    "    def current_accuracy(self):\n",
    "        return self._currentAccuracy\n",
    "        "
   ]
  },
  {
   "cell_type": "code",
   "execution_count": 61,
   "metadata": {},
   "outputs": [],
   "source": [
    "def init_1():\n",
    "    layers_cnn = [\n",
    "        {\n",
    "            \"filters\":32,\"kernel_size\":(3,3),\"strides\":(1,1),\n",
    "            \"activation\":\"relu\",\"maxpooling\":[True,(2,2)],\"dropout\":[False]\n",
    "        },\n",
    "        {\n",
    "            \"filters\":32,\"kernel_size\":(3,3),\"strides\":(1,1),\n",
    "            \"activation\":\"relu\",\"maxpooling\":[True,(2,2)],\"dropout\":[False]\n",
    "        },\n",
    "        {\n",
    "            \"filters\":64,\"kernel_size\":(3,3),\"strides\":(1,1),\n",
    "            \"activation\":\"relu\",\"maxpooling\":[True,(2,2)],\"dropout\":[False]\n",
    "        },\n",
    "        {\n",
    "            \"filters\":64,\"kernel_size\":(3,3),\"strides\":(1,1),\n",
    "            \"activation\":\"relu\",\"maxpooling\":[True,(2,2)],\"dropout\":[False]\n",
    "        }\n",
    "    ]\n",
    "\n",
    "    layers_dense = [\n",
    "        {\n",
    "            \"units\":128,\n",
    "            \"activation\":\"relu\",\"dropout\":[False]\n",
    "        },\n",
    "        {\n",
    "            \"units\":64,\n",
    "            \"activation\":\"relu\",\"dropout\":[False]\n",
    "        },\n",
    "        {\n",
    "            \"units\":32,\n",
    "            \"activation\":\"relu\",\"dropout\":[True, 0.3]\n",
    "        },\n",
    "        {\n",
    "            \"units\":1,\n",
    "            \"activation\":\"sigmoid\",\"dropout\":[False]\n",
    "        },\n",
    "    ]\n",
    "    model_1 = Model_CNN(layers_cnn, layers_dense, \"adam\", \n",
    "                    \"binary_crossentropy\", [\"accuracy\"], (150,150,3))\n",
    "    return model_1"
   ]
  },
  {
   "cell_type": "markdown",
   "metadata": {},
   "source": [
    "### Loading Model process\n",
    "\n",
    "Use the following lines to load your model"
   ]
  },
  {
   "cell_type": "code",
   "execution_count": 59,
   "metadata": {},
   "outputs": [
    {
     "name": "stdout",
     "output_type": "stream",
     "text": [
      "Loading Done Correctly\n",
      "Model: \"sequential_7\"\n",
      "_________________________________________________________________\n",
      "Layer (type)                 Output Shape              Param #   \n",
      "=================================================================\n",
      "conv2d_25 (Conv2D)           (None, 148, 148, 32)      896       \n",
      "_________________________________________________________________\n",
      "max_pooling2d_25 (MaxPooling (None, 74, 74, 32)        0         \n",
      "_________________________________________________________________\n",
      "conv2d_26 (Conv2D)           (None, 72, 72, 32)        9248      \n",
      "_________________________________________________________________\n",
      "max_pooling2d_26 (MaxPooling (None, 36, 36, 32)        0         \n",
      "_________________________________________________________________\n",
      "conv2d_27 (Conv2D)           (None, 34, 34, 64)        18496     \n",
      "_________________________________________________________________\n",
      "max_pooling2d_27 (MaxPooling (None, 17, 17, 64)        0         \n",
      "_________________________________________________________________\n",
      "conv2d_28 (Conv2D)           (None, 15, 15, 64)        36928     \n",
      "_________________________________________________________________\n",
      "max_pooling2d_28 (MaxPooling (None, 7, 7, 64)          0         \n",
      "_________________________________________________________________\n",
      "flatten_7 (Flatten)          (None, 3136)              0         \n",
      "_________________________________________________________________\n",
      "dense_25 (Dense)             (None, 128)               401536    \n",
      "_________________________________________________________________\n",
      "dense_26 (Dense)             (None, 64)                8256      \n",
      "_________________________________________________________________\n",
      "dense_27 (Dense)             (None, 32)                2080      \n",
      "_________________________________________________________________\n",
      "dropout_7 (Dropout)          (None, 32)                0         \n",
      "_________________________________________________________________\n",
      "dense_28 (Dense)             (None, 1)                 33        \n",
      "=================================================================\n",
      "Total params: 477,473\n",
      "Trainable params: 477,473\n",
      "Non-trainable params: 0\n",
      "_________________________________________________________________\n"
     ]
    }
   ],
   "source": [
    "# creating for the first time your model\n",
    "# model_1 = init_1()\n",
    "# loading it from existing file in the model folder\n",
    "model_1 = Model_CNN(None, None, None, None, None, None, True, \"model1\")"
   ]
  },
  {
   "cell_type": "markdown",
   "metadata": {},
   "source": [
    "### Training process\n",
    "\n",
    "Execute all the following lines to train your model.\n",
    "\n",
    "It will be saved every epoch."
   ]
  },
  {
   "cell_type": "code",
   "execution_count": 45,
   "metadata": {},
   "outputs": [],
   "source": [
    "epoch_number = 1"
   ]
  },
  {
   "cell_type": "code",
   "execution_count": 60,
   "metadata": {},
   "outputs": [
    {
     "name": "stdout",
     "output_type": "stream",
     "text": [
      "The model has been already trained 1 epochs\n",
      "The current accuracy over the test set is [0.5675403475761414]\n"
     ]
    }
   ],
   "source": [
    "print(\"The model has been already trained {} epochs\".format(model_1._epochDone))\n",
    "print(\"The current accuracy over the test set is {}\".format(model_1.current_accuracy()))"
   ]
  },
  {
   "cell_type": "code",
   "execution_count": 56,
   "metadata": {},
   "outputs": [
    {
     "name": "stdout",
     "output_type": "stream",
     "text": [
      "Found 8000 images belonging to 2 classes.\n",
      "Found 2000 images belonging to 2 classes.\n",
      "Epoch 1/1\n",
      "250/250 [==============================] - 112s 447ms/step - loss: 0.6914 - accuracy: 0.5231 - val_loss: 0.6716 - val_accuracy: 0.5675\n",
      "Saving Done Correctly\n"
     ]
    }
   ],
   "source": [
    "model_1.train(epoch_number, \"model1\")"
   ]
  },
  {
   "cell_type": "code",
   "execution_count": null,
   "metadata": {},
   "outputs": [],
   "source": []
  }
 ],
 "metadata": {
  "kernelspec": {
   "display_name": "Python 3",
   "language": "python",
   "name": "python3"
  },
  "language_info": {
   "codemirror_mode": {
    "name": "ipython",
    "version": 3
   },
   "file_extension": ".py",
   "mimetype": "text/x-python",
   "name": "python",
   "nbconvert_exporter": "python",
   "pygments_lexer": "ipython3",
   "version": "3.7.7"
  }
 },
 "nbformat": 4,
 "nbformat_minor": 4
}
