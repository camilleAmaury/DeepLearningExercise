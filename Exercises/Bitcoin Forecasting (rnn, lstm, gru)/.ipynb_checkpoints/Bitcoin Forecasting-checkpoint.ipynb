{
 "cells": [
  {
   "cell_type": "markdown",
   "metadata": {},
   "source": [
    "# Bitcoin Forecasting\n",
    "\n",
    "This notebook was created by Camille-Amaury JUGE, with the purpose to learn deep learning and tensorflow/keras on the bitcoin historical data following the data.world's dataset : \n",
    "\n",
    "https://data.world/amodu/bitcoin-price-analysis. \n",
    "\n",
    "The aim is to focus even more on Recurrent Neural Nework.\n",
    "\n",
    "## Imports"
   ]
  },
  {
   "cell_type": "code",
   "execution_count": 1,
   "metadata": {},
   "outputs": [],
   "source": [
    "import numpy as np\n",
    "import pandas as pd\n",
    "import matplotlib.pyplot as plt\n",
    "from pylab import rcParams\n",
    "# tensorflow\n",
    "import tensorflow as tf\n",
    "from tensorflow.keras.layers import Dense\n",
    "from tensorflow.keras.models import Sequential\n",
    "from tensorflow.keras.layers import LSTM, SimpleRNN, GRU\n",
    "# scikit-learn\n",
    "from sklearn.model_selection import train_test_split\n",
    "\n",
    "rcParams['figure.figsize'] = 16,10"
   ]
  },
  {
   "cell_type": "markdown",
   "metadata": {},
   "source": [
    "## Preprocessing"
   ]
  },
  {
   "cell_type": "code",
   "execution_count": 26,
   "metadata": {},
   "outputs": [
    {
     "data": {
      "text/html": [
       "<div>\n",
       "<style scoped>\n",
       "    .dataframe tbody tr th:only-of-type {\n",
       "        vertical-align: middle;\n",
       "    }\n",
       "\n",
       "    .dataframe tbody tr th {\n",
       "        vertical-align: top;\n",
       "    }\n",
       "\n",
       "    .dataframe thead th {\n",
       "        text-align: right;\n",
       "    }\n",
       "</style>\n",
       "<table border=\"1\" class=\"dataframe\">\n",
       "  <thead>\n",
       "    <tr style=\"text-align: right;\">\n",
       "      <th></th>\n",
       "      <th>Unix Timestamp</th>\n",
       "      <th>Date</th>\n",
       "      <th>Symbol</th>\n",
       "      <th>Open</th>\n",
       "      <th>High</th>\n",
       "      <th>Low</th>\n",
       "      <th>Close</th>\n",
       "      <th>Volume BTC</th>\n",
       "      <th>Volume USD</th>\n",
       "    </tr>\n",
       "  </thead>\n",
       "  <tbody>\n",
       "    <tr>\n",
       "      <th>1713</th>\n",
       "      <td>1.449878e+09</td>\n",
       "      <td>2015-12-12</td>\n",
       "      <td>BTCUSD</td>\n",
       "      <td>420.0</td>\n",
       "      <td>420.0</td>\n",
       "      <td>420.0</td>\n",
       "      <td>420.0</td>\n",
       "      <td>0.000304</td>\n",
       "      <td>0.127600</td>\n",
       "    </tr>\n",
       "    <tr>\n",
       "      <th>1712</th>\n",
       "      <td>1.449965e+09</td>\n",
       "      <td>2015-12-13</td>\n",
       "      <td>BTCUSD</td>\n",
       "      <td>420.0</td>\n",
       "      <td>420.0</td>\n",
       "      <td>420.0</td>\n",
       "      <td>420.0</td>\n",
       "      <td>0.000000</td>\n",
       "      <td>0.000000</td>\n",
       "    </tr>\n",
       "    <tr>\n",
       "      <th>1711</th>\n",
       "      <td>1.450051e+09</td>\n",
       "      <td>2015-12-14</td>\n",
       "      <td>BTCUSD</td>\n",
       "      <td>420.0</td>\n",
       "      <td>420.0</td>\n",
       "      <td>420.0</td>\n",
       "      <td>420.0</td>\n",
       "      <td>0.000000</td>\n",
       "      <td>0.000000</td>\n",
       "    </tr>\n",
       "    <tr>\n",
       "      <th>1710</th>\n",
       "      <td>1.450138e+09</td>\n",
       "      <td>2015-12-15</td>\n",
       "      <td>BTCUSD</td>\n",
       "      <td>420.0</td>\n",
       "      <td>450.0</td>\n",
       "      <td>420.0</td>\n",
       "      <td>450.0</td>\n",
       "      <td>0.401500</td>\n",
       "      <td>180.090000</td>\n",
       "    </tr>\n",
       "    <tr>\n",
       "      <th>1709</th>\n",
       "      <td>1.450224e+09</td>\n",
       "      <td>2015-12-16</td>\n",
       "      <td>BTCUSD</td>\n",
       "      <td>450.0</td>\n",
       "      <td>470.0</td>\n",
       "      <td>450.0</td>\n",
       "      <td>451.0</td>\n",
       "      <td>0.074270</td>\n",
       "      <td>34.140000</td>\n",
       "    </tr>\n",
       "    <tr>\n",
       "      <th>1708</th>\n",
       "      <td>1.450310e+09</td>\n",
       "      <td>2015-12-17</td>\n",
       "      <td>BTCUSD</td>\n",
       "      <td>451.0</td>\n",
       "      <td>451.0</td>\n",
       "      <td>451.0</td>\n",
       "      <td>451.0</td>\n",
       "      <td>0.000000</td>\n",
       "      <td>0.000000</td>\n",
       "    </tr>\n",
       "    <tr>\n",
       "      <th>1707</th>\n",
       "      <td>1.450397e+09</td>\n",
       "      <td>2015-12-18</td>\n",
       "      <td>BTCUSD</td>\n",
       "      <td>459.0</td>\n",
       "      <td>459.0</td>\n",
       "      <td>459.0</td>\n",
       "      <td>459.0</td>\n",
       "      <td>0.000012</td>\n",
       "      <td>0.005421</td>\n",
       "    </tr>\n",
       "    <tr>\n",
       "      <th>1706</th>\n",
       "      <td>1.450483e+09</td>\n",
       "      <td>2015-12-19</td>\n",
       "      <td>BTCUSD</td>\n",
       "      <td>459.0</td>\n",
       "      <td>459.0</td>\n",
       "      <td>451.0</td>\n",
       "      <td>451.0</td>\n",
       "      <td>0.010200</td>\n",
       "      <td>4.600000</td>\n",
       "    </tr>\n",
       "    <tr>\n",
       "      <th>1705</th>\n",
       "      <td>1.450570e+09</td>\n",
       "      <td>2015-12-20</td>\n",
       "      <td>BTCUSD</td>\n",
       "      <td>450.0</td>\n",
       "      <td>450.0</td>\n",
       "      <td>450.0</td>\n",
       "      <td>450.0</td>\n",
       "      <td>0.013920</td>\n",
       "      <td>6.260000</td>\n",
       "    </tr>\n",
       "    <tr>\n",
       "      <th>1704</th>\n",
       "      <td>1.450656e+09</td>\n",
       "      <td>2015-12-21</td>\n",
       "      <td>BTCUSD</td>\n",
       "      <td>450.0</td>\n",
       "      <td>450.0</td>\n",
       "      <td>450.0</td>\n",
       "      <td>450.0</td>\n",
       "      <td>0.000000</td>\n",
       "      <td>0.000000</td>\n",
       "    </tr>\n",
       "  </tbody>\n",
       "</table>\n",
       "</div>"
      ],
      "text/plain": [
       "      Unix Timestamp        Date  Symbol   Open   High    Low  Close  \\\n",
       "1713    1.449878e+09  2015-12-12  BTCUSD  420.0  420.0  420.0  420.0   \n",
       "1712    1.449965e+09  2015-12-13  BTCUSD  420.0  420.0  420.0  420.0   \n",
       "1711    1.450051e+09  2015-12-14  BTCUSD  420.0  420.0  420.0  420.0   \n",
       "1710    1.450138e+09  2015-12-15  BTCUSD  420.0  450.0  420.0  450.0   \n",
       "1709    1.450224e+09  2015-12-16  BTCUSD  450.0  470.0  450.0  451.0   \n",
       "1708    1.450310e+09  2015-12-17  BTCUSD  451.0  451.0  451.0  451.0   \n",
       "1707    1.450397e+09  2015-12-18  BTCUSD  459.0  459.0  459.0  459.0   \n",
       "1706    1.450483e+09  2015-12-19  BTCUSD  459.0  459.0  451.0  451.0   \n",
       "1705    1.450570e+09  2015-12-20  BTCUSD  450.0  450.0  450.0  450.0   \n",
       "1704    1.450656e+09  2015-12-21  BTCUSD  450.0  450.0  450.0  450.0   \n",
       "\n",
       "      Volume BTC  Volume USD  \n",
       "1713    0.000304    0.127600  \n",
       "1712    0.000000    0.000000  \n",
       "1711    0.000000    0.000000  \n",
       "1710    0.401500  180.090000  \n",
       "1709    0.074270   34.140000  \n",
       "1708    0.000000    0.000000  \n",
       "1707    0.000012    0.005421  \n",
       "1706    0.010200    4.600000  \n",
       "1705    0.013920    6.260000  \n",
       "1704    0.000000    0.000000  "
      ]
     },
     "execution_count": 26,
     "metadata": {},
     "output_type": "execute_result"
    }
   ],
   "source": [
    "df = pd.read_csv(\"Bittrex_BTCUSD_d.csv\", header=1)\n",
    "df = df.sort_index(axis=0, ascending=False)\n",
    "df.head(10)"
   ]
  },
  {
   "cell_type": "code",
   "execution_count": 28,
   "metadata": {},
   "outputs": [
    {
     "data": {
      "text/plain": [
       "Unix Timestamp    float64\n",
       "Date               object\n",
       "Symbol             object\n",
       "Open              float32\n",
       "High              float32\n",
       "Low               float32\n",
       "Close             float32\n",
       "Volume BTC        float32\n",
       "Volume USD        float32\n",
       "dtype: object"
      ]
     },
     "execution_count": 28,
     "metadata": {},
     "output_type": "execute_result"
    }
   ],
   "source": [
    "df[df.columns[3:9]] = df[df.columns[3:9]].astype(np.float32)\n",
    "df.dtypes"
   ]
  },
  {
   "cell_type": "markdown",
   "metadata": {},
   "source": [
    "We will check if there is no NAN values that we won't be able to handle"
   ]
  },
  {
   "cell_type": "code",
   "execution_count": 29,
   "metadata": {},
   "outputs": [
    {
     "data": {
      "text/plain": [
       "Unix Timestamp    0\n",
       "Date              0\n",
       "Symbol            0\n",
       "Open              0\n",
       "High              0\n",
       "Low               0\n",
       "Close             0\n",
       "Volume BTC        0\n",
       "Volume USD        0\n",
       "dtype: int64"
      ]
     },
     "execution_count": 29,
     "metadata": {},
     "output_type": "execute_result"
    }
   ],
   "source": [
    "df.isna().sum()"
   ]
  },
  {
   "cell_type": "code",
   "execution_count": 31,
   "metadata": {},
   "outputs": [
    {
     "data": {
      "text/html": [
       "<div>\n",
       "<style scoped>\n",
       "    .dataframe tbody tr th:only-of-type {\n",
       "        vertical-align: middle;\n",
       "    }\n",
       "\n",
       "    .dataframe tbody tr th {\n",
       "        vertical-align: top;\n",
       "    }\n",
       "\n",
       "    .dataframe thead th {\n",
       "        text-align: right;\n",
       "    }\n",
       "</style>\n",
       "<table border=\"1\" class=\"dataframe\">\n",
       "  <thead>\n",
       "    <tr style=\"text-align: right;\">\n",
       "      <th></th>\n",
       "      <th>count</th>\n",
       "      <th>mean</th>\n",
       "      <th>std</th>\n",
       "      <th>min</th>\n",
       "      <th>25%</th>\n",
       "      <th>50%</th>\n",
       "      <th>75%</th>\n",
       "      <th>max</th>\n",
       "    </tr>\n",
       "  </thead>\n",
       "  <tbody>\n",
       "    <tr>\n",
       "      <th>Unix Timestamp</th>\n",
       "      <td>1714.0</td>\n",
       "      <td>1.524195e+09</td>\n",
       "      <td>43142855.0</td>\n",
       "      <td>1.449878e+09</td>\n",
       "      <td>1.486879e+09</td>\n",
       "      <td>1.523880e+09</td>\n",
       "      <td>1.561918e+09</td>\n",
       "      <td>1.598918e+09</td>\n",
       "    </tr>\n",
       "    <tr>\n",
       "      <th>Open</th>\n",
       "      <td>1714.0</td>\n",
       "      <td>5.373000e+03</td>\n",
       "      <td>3963.0</td>\n",
       "      <td>3.600000e+02</td>\n",
       "      <td>1.018000e+03</td>\n",
       "      <td>5.886000e+03</td>\n",
       "      <td>8.599000e+03</td>\n",
       "      <td>1.926100e+04</td>\n",
       "    </tr>\n",
       "    <tr>\n",
       "      <th>High</th>\n",
       "      <td>1714.0</td>\n",
       "      <td>5.527000e+03</td>\n",
       "      <td>4095.0</td>\n",
       "      <td>3.650000e+02</td>\n",
       "      <td>1.040000e+03</td>\n",
       "      <td>6.179000e+03</td>\n",
       "      <td>8.816000e+03</td>\n",
       "      <td>1.985000e+04</td>\n",
       "    </tr>\n",
       "    <tr>\n",
       "      <th>Low</th>\n",
       "      <td>1714.0</td>\n",
       "      <td>5.194000e+03</td>\n",
       "      <td>3795.0</td>\n",
       "      <td>3.260000e+02</td>\n",
       "      <td>9.920000e+02</td>\n",
       "      <td>5.667000e+03</td>\n",
       "      <td>8.298000e+03</td>\n",
       "      <td>1.853800e+04</td>\n",
       "    </tr>\n",
       "    <tr>\n",
       "      <th>Close</th>\n",
       "      <td>1714.0</td>\n",
       "      <td>5.380000e+03</td>\n",
       "      <td>3964.0</td>\n",
       "      <td>3.650000e+02</td>\n",
       "      <td>1.015000e+03</td>\n",
       "      <td>5.925000e+03</td>\n",
       "      <td>8.613000e+03</td>\n",
       "      <td>1.926100e+04</td>\n",
       "    </tr>\n",
       "    <tr>\n",
       "      <th>Volume BTC</th>\n",
       "      <td>1714.0</td>\n",
       "      <td>1.507000e+03</td>\n",
       "      <td>2913.0</td>\n",
       "      <td>0.000000e+00</td>\n",
       "      <td>2.000000e+00</td>\n",
       "      <td>5.140000e+02</td>\n",
       "      <td>1.409000e+03</td>\n",
       "      <td>4.061800e+04</td>\n",
       "    </tr>\n",
       "    <tr>\n",
       "      <th>Volume USD</th>\n",
       "      <td>1714.0</td>\n",
       "      <td>1.166965e+07</td>\n",
       "      <td>26151006.0</td>\n",
       "      <td>0.000000e+00</td>\n",
       "      <td>1.575000e+03</td>\n",
       "      <td>3.327371e+06</td>\n",
       "      <td>1.003088e+07</td>\n",
       "      <td>3.330574e+08</td>\n",
       "    </tr>\n",
       "  </tbody>\n",
       "</table>\n",
       "</div>"
      ],
      "text/plain": [
       "                 count          mean         std           min           25%  \\\n",
       "Unix Timestamp  1714.0  1.524195e+09  43142855.0  1.449878e+09  1.486879e+09   \n",
       "Open            1714.0  5.373000e+03      3963.0  3.600000e+02  1.018000e+03   \n",
       "High            1714.0  5.527000e+03      4095.0  3.650000e+02  1.040000e+03   \n",
       "Low             1714.0  5.194000e+03      3795.0  3.260000e+02  9.920000e+02   \n",
       "Close           1714.0  5.380000e+03      3964.0  3.650000e+02  1.015000e+03   \n",
       "Volume BTC      1714.0  1.507000e+03      2913.0  0.000000e+00  2.000000e+00   \n",
       "Volume USD      1714.0  1.166965e+07  26151006.0  0.000000e+00  1.575000e+03   \n",
       "\n",
       "                         50%           75%           max  \n",
       "Unix Timestamp  1.523880e+09  1.561918e+09  1.598918e+09  \n",
       "Open            5.886000e+03  8.599000e+03  1.926100e+04  \n",
       "High            6.179000e+03  8.816000e+03  1.985000e+04  \n",
       "Low             5.667000e+03  8.298000e+03  1.853800e+04  \n",
       "Close           5.925000e+03  8.613000e+03  1.926100e+04  \n",
       "Volume BTC      5.140000e+02  1.409000e+03  4.061800e+04  \n",
       "Volume USD      3.327371e+06  1.003088e+07  3.330574e+08  "
      ]
     },
     "execution_count": 31,
     "metadata": {},
     "output_type": "execute_result"
    }
   ],
   "source": [
    "df.describe().transpose().round()"
   ]
  },
  {
   "cell_type": "markdown",
   "metadata": {},
   "source": [
    "Since we have a small dataset of 2000 rows, we don't expect Neural Networks to perform as they could with a lot more data."
   ]
  },
  {
   "cell_type": "code",
   "execution_count": 32,
   "metadata": {},
   "outputs": [],
   "source": [
    "def createXY(df, test_proportion=0.1, value_columns=[], Y=[], day_range=1):\n",
    "    # create columns\n",
    "    columns = []\n",
    "    columns_val = []\n",
    "    for i in range(day_range,0,-1):\n",
    "        columns += [(value_columns[j]+\"-{}\".format(i)) for j in range(len(value_columns))]\n",
    "    for j in range(len(columns)):\n",
    "        columns_val.append([])\n",
    "    \n",
    "    indexes = list(df.index)\n",
    "    indexes = indexes[day_range:]\n",
    "    for i in indexes:\n",
    "        for col in range(len(value_columns)):\n",
    "            for j in range(day_range,0,-1):\n",
    "                columns_val[len(value_columns)*(day_range-j)+col].append(df.loc[i-j, columns[col].split(\"-\")[0]])\n",
    "    # X's\n",
    "    data = pd.DataFrame(columns_val).transpose()\n",
    "    limit = int(len(data)*(1-test_proportion))\n",
    "    X_train = data.iloc[:limit].values\n",
    "    X_train = np.reshape(X_train, (len(X_train), 1, X_train.shape[1]))\n",
    "    X_test = data.iloc[limit:].values\n",
    "    X_test = np.reshape(X_test, (len(X_test), 1, X_test.shape[1]))\n",
    "    # Y's\n",
    "    target = df[Y].iloc[day_range:]\n",
    "    Y_train = target.iloc[:limit].values\n",
    "    Y_test = target.iloc[limit:].values\n",
    "    return X_train, Y_train, X_test, Y_test"
   ]
  },
  {
   "cell_type": "code",
   "execution_count": 7,
   "metadata": {},
   "outputs": [
    {
     "data": {
      "text/plain": [
       "(45, 1)"
      ]
     },
     "execution_count": 7,
     "metadata": {},
     "output_type": "execute_result"
    }
   ],
   "source": [
    "x1, y1, x2, y2 = createXY(df, value_columns=[\"Open\", \"Close\"], Y=[\"Open\", \"Close\"], day_range=10)\n",
    "y2.shape"
   ]
  },
  {
   "cell_type": "markdown",
   "metadata": {},
   "source": [
    "## Simple Neural Network\n",
    "\n",
    "In this part we will try to explore the simple to more complex neural network\n",
    "\n",
    "### Single hidden layer\n",
    "\n",
    "This model will be the simplier we will be using. We choose the rectified linear unit (reLU) function, since it is quite better for backpropagation and non-linear behavior, applied on the 10 hidden neurons layer.\n",
    "\n",
    "Then our output layer will be a 10 neurons using the softmax function in order to represents the 10 classes vector with the predicted class.\n",
    "\n",
    "Lastly, we will be using the categorical crossentropy regarding to our problem, the optimizer could have been \"rmsprop\" rather than \"adam\", but here we don't mind. Our comparaison metric will be the accuracy to predict a class."
   ]
  },
  {
   "cell_type": "code",
   "execution_count": 8,
   "metadata": {},
   "outputs": [],
   "source": [
    "model = Sequential()\n",
    "model.add(Dense(20, input_shape=(1,x1.shape[2]), activation=\"relu\"))\n",
    "model.add(Dense(4))\n",
    "model.add(Dense(1))\n",
    "model.compile(loss=tf.keras.losses.MeanAbsoluteError(), optimizer='adam', metrics=[tf.keras.losses.MeanAbsoluteError()])"
   ]
  },
  {
   "cell_type": "code",
   "execution_count": 9,
   "metadata": {},
   "outputs": [
    {
     "name": "stdout",
     "output_type": "stream",
     "text": [
      "Train on 357 samples, validate on 40 samples\n",
      "Epoch 1/100\n",
      "357/357 [==============================] - 1s 3ms/sample - loss: 4757.0677 - mean_absolute_error: 4622.9878 - val_loss: 7028.5479 - val_mean_absolute_error: 6365.6855\n",
      "Epoch 2/100\n",
      "357/357 [==============================] - 0s 88us/sample - loss: 1157.8178 - mean_absolute_error: 1099.9520 - val_loss: 2753.4801 - val_mean_absolute_error: 2516.3748\n",
      "Epoch 3/100\n",
      "357/357 [==============================] - 0s 73us/sample - loss: 606.7502 - mean_absolute_error: 582.6739 - val_loss: 1959.8440 - val_mean_absolute_error: 1820.7177\n",
      "Epoch 4/100\n",
      "357/357 [==============================] - 0s 73us/sample - loss: 404.9205 - mean_absolute_error: 401.3828 - val_loss: 1256.4450 - val_mean_absolute_error: 1168.8297\n",
      "Epoch 5/100\n",
      "357/357 [==============================] - 0s 73us/sample - loss: 380.9170 - mean_absolute_error: 366.2133 - val_loss: 1937.9224 - val_mean_absolute_error: 1791.1521\n",
      "Epoch 6/100\n",
      "357/357 [==============================] - 0s 71us/sample - loss: 375.7161 - mean_absolute_error: 365.3351 - val_loss: 1411.0253 - val_mean_absolute_error: 1270.7261\n",
      "Epoch 7/100\n",
      "357/357 [==============================] - 0s 73us/sample - loss: 355.9507 - mean_absolute_error: 365.8192 - val_loss: 1496.5949 - val_mean_absolute_error: 1336.9441\n",
      "Epoch 8/100\n",
      "357/357 [==============================] - 0s 71us/sample - loss: 346.1343 - mean_absolute_error: 370.0005 - val_loss: 1236.0301 - val_mean_absolute_error: 1086.1537\n",
      "Epoch 9/100\n",
      "357/357 [==============================] - 0s 73us/sample - loss: 300.7622 - mean_absolute_error: 282.6742 - val_loss: 1113.9064 - val_mean_absolute_error: 990.5094\n",
      "Epoch 10/100\n",
      "357/357 [==============================] - 0s 73us/sample - loss: 265.7498 - mean_absolute_error: 303.1854 - val_loss: 1269.7341 - val_mean_absolute_error: 1096.7085\n",
      "Epoch 11/100\n",
      "357/357 [==============================] - 0s 71us/sample - loss: 263.6263 - mean_absolute_error: 251.3209 - val_loss: 1116.7031 - val_mean_absolute_error: 982.7323\n",
      "Epoch 12/100\n",
      "357/357 [==============================] - 0s 71us/sample - loss: 261.3984 - mean_absolute_error: 254.2632 - val_loss: 1246.8066 - val_mean_absolute_error: 1073.0891\n",
      "Epoch 13/100\n",
      "357/357 [==============================] - 0s 71us/sample - loss: 269.6972 - mean_absolute_error: 265.4531 - val_loss: 1270.1193 - val_mean_absolute_error: 1090.5051\n",
      "Epoch 14/100\n",
      "357/357 [==============================] - 0s 73us/sample - loss: 285.6793 - mean_absolute_error: 288.9309 - val_loss: 1070.7297 - val_mean_absolute_error: 940.4834\n",
      "Epoch 15/100\n",
      "357/357 [==============================] - 0s 73us/sample - loss: 263.8202 - mean_absolute_error: 252.4368 - val_loss: 1100.3668 - val_mean_absolute_error: 961.3977\n",
      "Epoch 16/100\n",
      "357/357 [==============================] - 0s 74us/sample - loss: 253.6246 - mean_absolute_error: 241.5803 - val_loss: 1189.1623 - val_mean_absolute_error: 1021.6370\n",
      "Epoch 17/100\n",
      "357/357 [==============================] - 0s 70us/sample - loss: 257.0684 - mean_absolute_error: 245.0693 - val_loss: 1111.4283 - val_mean_absolute_error: 964.9161\n",
      "Epoch 18/100\n",
      "357/357 [==============================] - 0s 74us/sample - loss: 249.8212 - mean_absolute_error: 251.1154 - val_loss: 1126.7245 - val_mean_absolute_error: 972.4961\n",
      "Epoch 19/100\n",
      "357/357 [==============================] - 0s 71us/sample - loss: 249.9278 - mean_absolute_error: 245.6053 - val_loss: 1068.1310 - val_mean_absolute_error: 927.6559\n",
      "Epoch 20/100\n",
      "357/357 [==============================] - 0s 71us/sample - loss: 256.9122 - mean_absolute_error: 246.0981 - val_loss: 1057.7687 - val_mean_absolute_error: 917.2999\n",
      "Epoch 21/100\n",
      "357/357 [==============================] - 0s 73us/sample - loss: 250.8649 - mean_absolute_error: 246.4014 - val_loss: 1127.9253 - val_mean_absolute_error: 965.6041\n",
      "Epoch 22/100\n",
      "357/357 [==============================] - 0s 74us/sample - loss: 266.4158 - mean_absolute_error: 265.2900 - val_loss: 1104.9915 - val_mean_absolute_error: 947.2262\n",
      "Epoch 23/100\n",
      "357/357 [==============================] - 0s 71us/sample - loss: 242.1767 - mean_absolute_error: 244.9345 - val_loss: 1037.2993 - val_mean_absolute_error: 896.0115\n",
      "Epoch 24/100\n",
      "357/357 [==============================] - 0s 71us/sample - loss: 242.3303 - mean_absolute_error: 231.2115 - val_loss: 1029.3683 - val_mean_absolute_error: 887.7916\n",
      "Epoch 25/100\n",
      "357/357 [==============================] - 0s 73us/sample - loss: 237.6393 - mean_absolute_error: 297.4276 - val_loss: 1026.4763 - val_mean_absolute_error: 884.6930\n",
      "Epoch 26/100\n",
      "357/357 [==============================] - 0s 71us/sample - loss: 237.6454 - mean_absolute_error: 222.2559 - val_loss: 1096.5522 - val_mean_absolute_error: 933.3989\n",
      "Epoch 27/100\n",
      "357/357 [==============================] - 0s 74us/sample - loss: 244.6308 - mean_absolute_error: 234.2953 - val_loss: 1033.5777 - val_mean_absolute_error: 886.7466\n",
      "Epoch 28/100\n",
      "357/357 [==============================] - 0s 74us/sample - loss: 243.0872 - mean_absolute_error: 244.7620 - val_loss: 1027.4615 - val_mean_absolute_error: 882.7582\n",
      "Epoch 29/100\n",
      "357/357 [==============================] - 0s 71us/sample - loss: 235.7093 - mean_absolute_error: 227.5728 - val_loss: 1098.8452 - val_mean_absolute_error: 936.3545\n",
      "Epoch 30/100\n",
      "357/357 [==============================] - 0s 74us/sample - loss: 240.3721 - mean_absolute_error: 234.4062 - val_loss: 1222.8624 - val_mean_absolute_error: 1037.6205\n",
      "Epoch 31/100\n",
      "357/357 [==============================] - 0s 74us/sample - loss: 287.6548 - mean_absolute_error: 274.8763 - val_loss: 981.7960 - val_mean_absolute_error: 851.2804\n",
      "Epoch 32/100\n",
      "357/357 [==============================] - 0s 74us/sample - loss: 234.4773 - mean_absolute_error: 259.3455 - val_loss: 978.7361 - val_mean_absolute_error: 846.6597\n",
      "Epoch 33/100\n",
      "357/357 [==============================] - 0s 73us/sample - loss: 236.0943 - mean_absolute_error: 287.5183 - val_loss: 952.0951 - val_mean_absolute_error: 848.2902\n",
      "Epoch 34/100\n",
      "357/357 [==============================] - 0s 74us/sample - loss: 253.9121 - mean_absolute_error: 246.8442 - val_loss: 972.9352 - val_mean_absolute_error: 840.4161\n",
      "Epoch 35/100\n",
      "357/357 [==============================] - 0s 73us/sample - loss: 238.2992 - mean_absolute_error: 224.9812 - val_loss: 966.0271 - val_mean_absolute_error: 833.6740\n",
      "Epoch 36/100\n",
      "357/357 [==============================] - 0s 71us/sample - loss: 229.4410 - mean_absolute_error: 233.2912 - val_loss: 978.6260 - val_mean_absolute_error: 842.0326\n",
      "Epoch 37/100\n",
      "357/357 [==============================] - 0s 88us/sample - loss: 229.5819 - mean_absolute_error: 220.8756 - val_loss: 953.5653 - val_mean_absolute_error: 824.5923\n",
      "Epoch 38/100\n",
      "357/357 [==============================] - 0s 71us/sample - loss: 227.4154 - mean_absolute_error: 255.4977 - val_loss: 954.6475 - val_mean_absolute_error: 824.0469\n",
      "Epoch 39/100\n",
      "357/357 [==============================] - 0s 70us/sample - loss: 221.5880 - mean_absolute_error: 216.6330 - val_loss: 928.6653 - val_mean_absolute_error: 819.0438\n",
      "Epoch 40/100\n",
      "357/357 [==============================] - 0s 74us/sample - loss: 259.1890 - mean_absolute_error: 252.3824 - val_loss: 928.4394 - val_mean_absolute_error: 814.8536\n",
      "Epoch 41/100\n",
      "357/357 [==============================] - 0s 74us/sample - loss: 250.9210 - mean_absolute_error: 255.2640 - val_loss: 968.1700 - val_mean_absolute_error: 830.4897\n",
      "Epoch 42/100\n",
      "357/357 [==============================] - 0s 71us/sample - loss: 228.2559 - mean_absolute_error: 232.3538 - val_loss: 928.8948 - val_mean_absolute_error: 806.5513\n",
      "Epoch 43/100\n",
      "357/357 [==============================] - 0s 73us/sample - loss: 216.2150 - mean_absolute_error: 247.6657 - val_loss: 915.1609 - val_mean_absolute_error: 804.2786\n",
      "Epoch 44/100\n",
      "357/357 [==============================] - 0s 73us/sample - loss: 221.8934 - mean_absolute_error: 217.2085 - val_loss: 906.9464 - val_mean_absolute_error: 800.9523\n",
      "Epoch 45/100\n",
      "357/357 [==============================] - 0s 74us/sample - loss: 227.8881 - mean_absolute_error: 219.9774 - val_loss: 929.9781 - val_mean_absolute_error: 799.8381\n",
      "Epoch 46/100\n",
      "357/357 [==============================] - 0s 77us/sample - loss: 214.2791 - mean_absolute_error: 202.3823 - val_loss: 917.3204 - val_mean_absolute_error: 792.7334\n"
     ]
    },
    {
     "name": "stdout",
     "output_type": "stream",
     "text": [
      "Epoch 47/100\n",
      "357/357 [==============================] - 0s 71us/sample - loss: 213.1794 - mean_absolute_error: 214.4222 - val_loss: 920.7032 - val_mean_absolute_error: 792.5490\n",
      "Epoch 48/100\n",
      "357/357 [==============================] - 0s 74us/sample - loss: 228.3461 - mean_absolute_error: 220.3244 - val_loss: 1171.8756 - val_mean_absolute_error: 1001.4781\n",
      "Epoch 49/100\n",
      "357/357 [==============================] - 0s 71us/sample - loss: 242.0707 - mean_absolute_error: 226.1811 - val_loss: 973.6113 - val_mean_absolute_error: 836.8568\n",
      "Epoch 50/100\n",
      "357/357 [==============================] - 0s 71us/sample - loss: 208.0022 - mean_absolute_error: 202.7377 - val_loss: 889.6608 - val_mean_absolute_error: 778.0876\n",
      "Epoch 51/100\n",
      "357/357 [==============================] - 0s 73us/sample - loss: 214.0284 - mean_absolute_error: 203.8159 - val_loss: 871.1490 - val_mean_absolute_error: 781.5771\n",
      "Epoch 52/100\n",
      "357/357 [==============================] - 0s 73us/sample - loss: 222.9764 - mean_absolute_error: 213.2577 - val_loss: 882.4452 - val_mean_absolute_error: 770.6412\n",
      "Epoch 53/100\n",
      "357/357 [==============================] - 0s 71us/sample - loss: 210.2192 - mean_absolute_error: 210.2263 - val_loss: 871.4128 - val_mean_absolute_error: 767.4810\n",
      "Epoch 54/100\n",
      "357/357 [==============================] - 0s 71us/sample - loss: 207.0879 - mean_absolute_error: 219.9234 - val_loss: 869.6978 - val_mean_absolute_error: 784.5693\n",
      "Epoch 55/100\n",
      "357/357 [==============================] - 0s 71us/sample - loss: 237.4458 - mean_absolute_error: 243.8375 - val_loss: 866.4683 - val_mean_absolute_error: 782.2119\n",
      "Epoch 56/100\n",
      "357/357 [==============================] - 0s 74us/sample - loss: 230.5895 - mean_absolute_error: 218.1226 - val_loss: 875.5459 - val_mean_absolute_error: 759.6185\n",
      "Epoch 57/100\n",
      "357/357 [==============================] - 0s 73us/sample - loss: 209.5801 - mean_absolute_error: 217.7668 - val_loss: 863.0364 - val_mean_absolute_error: 753.4459\n",
      "Epoch 58/100\n",
      "357/357 [==============================] - 0s 70us/sample - loss: 225.2998 - mean_absolute_error: 213.3551 - val_loss: 980.1501 - val_mean_absolute_error: 843.5311\n",
      "Epoch 59/100\n",
      "357/357 [==============================] - 0s 74us/sample - loss: 211.9934 - mean_absolute_error: 205.3841 - val_loss: 886.3385 - val_mean_absolute_error: 766.1984\n",
      "Epoch 60/100\n",
      "357/357 [==============================] - 0s 71us/sample - loss: 205.3715 - mean_absolute_error: 196.6318 - val_loss: 927.0982 - val_mean_absolute_error: 797.7939\n",
      "Epoch 61/100\n",
      "357/357 [==============================] - 0s 73us/sample - loss: 209.8095 - mean_absolute_error: 203.6896 - val_loss: 913.1948 - val_mean_absolute_error: 785.9786\n",
      "Epoch 62/100\n",
      "357/357 [==============================] - 0s 71us/sample - loss: 205.1113 - mean_absolute_error: 199.3276 - val_loss: 865.2326 - val_mean_absolute_error: 751.8456\n",
      "Epoch 63/100\n",
      "357/357 [==============================] - 0s 74us/sample - loss: 203.6622 - mean_absolute_error: 198.3568 - val_loss: 908.1718 - val_mean_absolute_error: 782.3310\n",
      "Epoch 64/100\n",
      "357/357 [==============================] - 0s 74us/sample - loss: 238.2046 - mean_absolute_error: 230.5503 - val_loss: 954.5742 - val_mean_absolute_error: 820.4403\n",
      "Epoch 65/100\n",
      "357/357 [==============================] - 0s 73us/sample - loss: 246.2569 - mean_absolute_error: 246.8181 - val_loss: 822.9787 - val_mean_absolute_error: 725.7866\n",
      "Epoch 66/100\n",
      "357/357 [==============================] - 0s 74us/sample - loss: 199.1683 - mean_absolute_error: 203.5803 - val_loss: 856.4732 - val_mean_absolute_error: 771.5335\n",
      "Epoch 67/100\n",
      "357/357 [==============================] - 0s 73us/sample - loss: 226.4240 - mean_absolute_error: 225.2836 - val_loss: 845.9915 - val_mean_absolute_error: 761.3344\n",
      "Epoch 68/100\n",
      "357/357 [==============================] - 0s 73us/sample - loss: 224.7251 - mean_absolute_error: 213.1254 - val_loss: 813.7416 - val_mean_absolute_error: 717.5198\n",
      "Epoch 69/100\n",
      "357/357 [==============================] - 0s 71us/sample - loss: 206.6587 - mean_absolute_error: 196.6449 - val_loss: 803.5523 - val_mean_absolute_error: 714.6022\n",
      "Epoch 70/100\n",
      "357/357 [==============================] - 0s 70us/sample - loss: 195.0214 - mean_absolute_error: 238.8839 - val_loss: 815.0013 - val_mean_absolute_error: 733.3268\n",
      "Epoch 71/100\n",
      "357/357 [==============================] - 0s 71us/sample - loss: 205.3899 - mean_absolute_error: 201.5867 - val_loss: 792.8430 - val_mean_absolute_error: 707.4374\n",
      "Epoch 72/100\n",
      "357/357 [==============================] - 0s 73us/sample - loss: 201.8332 - mean_absolute_error: 200.8504 - val_loss: 788.6828 - val_mean_absolute_error: 703.8066\n",
      "Epoch 73/100\n",
      "357/357 [==============================] - 0s 73us/sample - loss: 196.8091 - mean_absolute_error: 190.6140 - val_loss: 944.9570 - val_mean_absolute_error: 812.0499\n",
      "Epoch 74/100\n",
      "357/357 [==============================] - 0s 71us/sample - loss: 223.5554 - mean_absolute_error: 218.9902 - val_loss: 957.1862 - val_mean_absolute_error: 824.2826\n",
      "Epoch 75/100\n",
      "357/357 [==============================] - 0s 71us/sample - loss: 202.2886 - mean_absolute_error: 190.7087 - val_loss: 958.7398 - val_mean_absolute_error: 826.1572\n",
      "Epoch 76/100\n",
      "357/357 [==============================] - 0s 73us/sample - loss: 205.4057 - mean_absolute_error: 198.8060 - val_loss: 855.9236 - val_mean_absolute_error: 743.2780\n",
      "Epoch 77/100\n",
      "357/357 [==============================] - 0s 73us/sample - loss: 196.5995 - mean_absolute_error: 188.8021 - val_loss: 879.2515 - val_mean_absolute_error: 758.4469\n",
      "Epoch 78/100\n",
      "357/357 [==============================] - 0s 73us/sample - loss: 191.8922 - mean_absolute_error: 188.2468 - val_loss: 785.4324 - val_mean_absolute_error: 696.1077\n",
      "Epoch 79/100\n",
      "357/357 [==============================] - 0s 71us/sample - loss: 208.1338 - mean_absolute_error: 219.1585 - val_loss: 797.6575 - val_mean_absolute_error: 704.3427\n",
      "Epoch 80/100\n",
      "357/357 [==============================] - 0s 70us/sample - loss: 190.7239 - mean_absolute_error: 198.2290 - val_loss: 789.1132 - val_mean_absolute_error: 711.2750\n",
      "Epoch 81/100\n",
      "357/357 [==============================] - 0s 95us/sample - loss: 202.7532 - mean_absolute_error: 202.6821 - val_loss: 759.2331 - val_mean_absolute_error: 677.9951\n",
      "Epoch 82/100\n",
      "357/357 [==============================] - 0s 80us/sample - loss: 205.2136 - mean_absolute_error: 198.5002 - val_loss: 881.3431 - val_mean_absolute_error: 759.0336\n",
      "Epoch 83/100\n",
      "357/357 [==============================] - 0s 109us/sample - loss: 193.1416 - mean_absolute_error: 188.9598 - val_loss: 864.2924 - val_mean_absolute_error: 747.6456\n",
      "Epoch 84/100\n",
      "357/357 [==============================] - 0s 71us/sample - loss: 190.2570 - mean_absolute_error: 185.1408 - val_loss: 754.4953 - val_mean_absolute_error: 676.4945\n",
      "Epoch 85/100\n",
      "357/357 [==============================] - 0s 74us/sample - loss: 197.2991 - mean_absolute_error: 188.6012 - val_loss: 752.1954 - val_mean_absolute_error: 672.5883\n",
      "Epoch 86/100\n",
      "357/357 [==============================] - 0s 73us/sample - loss: 192.9965 - mean_absolute_error: 182.5084 - val_loss: 751.0835 - val_mean_absolute_error: 671.7549\n",
      "Epoch 87/100\n",
      "357/357 [==============================] - 0s 74us/sample - loss: 179.4982 - mean_absolute_error: 177.5160 - val_loss: 921.7691 - val_mean_absolute_error: 796.1866\n",
      "Epoch 88/100\n",
      "357/357 [==============================] - 0s 74us/sample - loss: 196.7703 - mean_absolute_error: 194.4128 - val_loss: 753.6730 - val_mean_absolute_error: 673.2653\n",
      "Epoch 89/100\n",
      "357/357 [==============================] - 0s 71us/sample - loss: 189.5749 - mean_absolute_error: 179.8631 - val_loss: 745.2938 - val_mean_absolute_error: 667.3770\n",
      "Epoch 90/100\n",
      "357/357 [==============================] - 0s 73us/sample - loss: 182.1339 - mean_absolute_error: 184.5393 - val_loss: 735.0725 - val_mean_absolute_error: 659.8967\n",
      "Epoch 91/100\n",
      "357/357 [==============================] - 0s 76us/sample - loss: 192.3232 - mean_absolute_error: 216.8089 - val_loss: 931.1465 - val_mean_absolute_error: 806.6457\n",
      "Epoch 92/100\n",
      "357/357 [==============================] - 0s 73us/sample - loss: 214.3278 - mean_absolute_error: 241.6040 - val_loss: 947.6422 - val_mean_absolute_error: 819.9365\n",
      "Epoch 93/100\n"
     ]
    },
    {
     "name": "stdout",
     "output_type": "stream",
     "text": [
      "357/357 [==============================] - 0s 73us/sample - loss: 219.4941 - mean_absolute_error: 214.2374 - val_loss: 890.2596 - val_mean_absolute_error: 770.2148\n",
      "Epoch 94/100\n",
      "357/357 [==============================] - 0s 73us/sample - loss: 185.1128 - mean_absolute_error: 184.4443 - val_loss: 797.5333 - val_mean_absolute_error: 701.4822\n",
      "Epoch 95/100\n",
      "357/357 [==============================] - 0s 70us/sample - loss: 204.8793 - mean_absolute_error: 213.1656 - val_loss: 738.0034 - val_mean_absolute_error: 662.3373\n",
      "Epoch 96/100\n",
      "357/357 [==============================] - 0s 69us/sample - loss: 205.8354 - mean_absolute_error: 211.0661 - val_loss: 726.8916 - val_mean_absolute_error: 654.8478\n",
      "Epoch 97/100\n",
      "357/357 [==============================] - 0s 71us/sample - loss: 187.0612 - mean_absolute_error: 184.9843 - val_loss: 726.7361 - val_mean_absolute_error: 654.9353\n",
      "Epoch 98/100\n",
      "357/357 [==============================] - 0s 73us/sample - loss: 217.2707 - mean_absolute_error: 207.2700 - val_loss: 733.2266 - val_mean_absolute_error: 664.8435\n",
      "Epoch 99/100\n",
      "357/357 [==============================] - 0s 74us/sample - loss: 196.0824 - mean_absolute_error: 188.3645 - val_loss: 727.6012 - val_mean_absolute_error: 659.8463\n",
      "Epoch 100/100\n",
      "357/357 [==============================] - 0s 76us/sample - loss: 189.5308 - mean_absolute_error: 202.4905 - val_loss: 771.1617 - val_mean_absolute_error: 684.9346\n"
     ]
    },
    {
     "data": {
      "text/plain": [
       "<tensorflow.python.keras.callbacks.History at 0x23f5584fa08>"
      ]
     },
     "execution_count": 9,
     "metadata": {},
     "output_type": "execute_result"
    }
   ],
   "source": [
    "model.fit(x1, y1, epochs=100, validation_split=0.1)"
   ]
  },
  {
   "cell_type": "code",
   "execution_count": 10,
   "metadata": {},
   "outputs": [
    {
     "name": "stdout",
     "output_type": "stream",
     "text": [
      "45/45 [==============================] - 0s 122us/sample - loss: 450.6842 - mean_absolute_error: 421.7300\n",
      "421.73004\n"
     ]
    }
   ],
   "source": [
    "_, test_acc = model.evaluate(x2, y2)\n",
    "print(test_acc)"
   ]
  },
  {
   "cell_type": "code",
   "execution_count": 11,
   "metadata": {},
   "outputs": [
    {
     "name": "stdout",
     "output_type": "stream",
     "text": [
      "[[8430.433]] / [8662.8]\n"
     ]
    }
   ],
   "source": [
    "y_predicted = model.predict(x2, verbose=0)\n",
    "y_predicted.shape\n",
    "print(\"{} / {}\".format(y_predicted[0], y2[0]))"
   ]
  },
  {
   "cell_type": "code",
   "execution_count": 12,
   "metadata": {},
   "outputs": [
    {
     "data": {
      "text/plain": [
       "[<matplotlib.lines.Line2D at 0x23f56fecdc8>]"
      ]
     },
     "execution_count": 12,
     "metadata": {},
     "output_type": "execute_result"
    },
    {
     "data": {
      "image/png": "[encoded data removed]",
      "text/plain": [
       "<Figure size 1152x720 with 1 Axes>"
      ]
     },
     "metadata": {
      "needs_background": "light"
     },
     "output_type": "display_data"
    }
   ],
   "source": [
    "plt.plot(range(0,45),np.reshape(y2, (len(y2))), color='red', linewidth=4, label=\"Actual\")\n",
    "plt.plot(range(0,45),np.reshape(y_predicted, (len(y_predicted))), color='yellow', linewidth=2, label=\"Predicted\")"
   ]
  },
  {
   "cell_type": "markdown",
   "metadata": {},
   "source": [
    "## Recurrent Neural Network\n",
    "\n",
    "In this part we will try to explore the Recurrent Neural Network"
   ]
  },
  {
   "cell_type": "code",
   "execution_count": 13,
   "metadata": {},
   "outputs": [],
   "source": [
    "model1 = Sequential()\n",
    "model1.add(SimpleRNN(20, return_sequences=True,input_shape=(1,x1.shape[2]), activation=\"relu\"))\n",
    "model1.add(Dense(5))\n",
    "model1.add(Dense(1))\n",
    "model1.compile(loss=tf.keras.losses.MeanAbsoluteError(), optimizer='adam', metrics=[tf.keras.losses.MeanAbsoluteError()])"
   ]
  },
  {
   "cell_type": "code",
   "execution_count": 14,
   "metadata": {},
   "outputs": [
    {
     "name": "stdout",
     "output_type": "stream",
     "text": [
      "Train on 357 samples, validate on 40 samples\n",
      "Epoch 1/100\n",
      "357/357 [==============================] - 2s 5ms/sample - loss: 2462.9221 - mean_absolute_error: 2346.1235 - val_loss: 1092.6900 - val_mean_absolute_error: 1000.6761\n",
      "Epoch 2/100\n",
      "357/357 [==============================] - 0s 81us/sample - loss: 681.2868 - mean_absolute_error: 640.9163 - val_loss: 1423.2888 - val_mean_absolute_error: 1283.9877\n",
      "Epoch 3/100\n",
      "357/357 [==============================] - 0s 85us/sample - loss: 343.9395 - mean_absolute_error: 326.4445 - val_loss: 1247.8463 - val_mean_absolute_error: 1128.3795\n",
      "Epoch 4/100\n",
      "357/357 [==============================] - 0s 83us/sample - loss: 296.7695 - mean_absolute_error: 312.2513 - val_loss: 1023.2981 - val_mean_absolute_error: 955.5663\n",
      "Epoch 5/100\n",
      "357/357 [==============================] - 0s 83us/sample - loss: 279.4158 - mean_absolute_error: 296.0416 - val_loss: 1053.1707 - val_mean_absolute_error: 969.6513\n",
      "Epoch 6/100\n",
      "357/357 [==============================] - 0s 87us/sample - loss: 271.5993 - mean_absolute_error: 262.3622 - val_loss: 1157.2170 - val_mean_absolute_error: 1051.1877\n",
      "Epoch 7/100\n",
      "357/357 [==============================] - 0s 83us/sample - loss: 267.2726 - mean_absolute_error: 252.0592 - val_loss: 1118.8897 - val_mean_absolute_error: 1022.4070\n",
      "Epoch 8/100\n",
      "357/357 [==============================] - 0s 80us/sample - loss: 260.7815 - mean_absolute_error: 249.6220 - val_loss: 989.7482 - val_mean_absolute_error: 923.5045\n",
      "Epoch 9/100\n",
      "357/357 [==============================] - 0s 83us/sample - loss: 258.8731 - mean_absolute_error: 257.2373 - val_loss: 977.0326 - val_mean_absolute_error: 914.0826\n",
      "Epoch 10/100\n",
      "357/357 [==============================] - 0s 83us/sample - loss: 263.4944 - mean_absolute_error: 284.3358 - val_loss: 1100.7668 - val_mean_absolute_error: 1009.3341\n",
      "Epoch 11/100\n",
      "357/357 [==============================] - 0s 83us/sample - loss: 268.3693 - mean_absolute_error: 256.3719 - val_loss: 1312.4754 - val_mean_absolute_error: 1168.2798\n",
      "Epoch 12/100\n",
      "357/357 [==============================] - 0s 85us/sample - loss: 254.0727 - mean_absolute_error: 254.4181 - val_loss: 1022.3070 - val_mean_absolute_error: 948.0972\n",
      "Epoch 13/100\n",
      "357/357 [==============================] - 0s 85us/sample - loss: 242.7079 - mean_absolute_error: 235.6042 - val_loss: 944.2398 - val_mean_absolute_error: 888.7155\n",
      "Epoch 14/100\n",
      "357/357 [==============================] - 0s 85us/sample - loss: 255.9266 - mean_absolute_error: 258.6817 - val_loss: 1102.2074 - val_mean_absolute_error: 1010.6846\n",
      "Epoch 15/100\n",
      "357/357 [==============================] - 0s 88us/sample - loss: 233.3722 - mean_absolute_error: 223.9702 - val_loss: 1006.6519 - val_mean_absolute_error: 937.0433\n",
      "Epoch 16/100\n",
      "357/357 [==============================] - 0s 88us/sample - loss: 274.2907 - mean_absolute_error: 272.4945 - val_loss: 835.3774 - val_mean_absolute_error: 837.4724\n",
      "Epoch 17/100\n",
      "357/357 [==============================] - 0s 84us/sample - loss: 264.0716 - mean_absolute_error: 260.8915 - val_loss: 855.1316 - val_mean_absolute_error: 855.2476\n",
      "Epoch 18/100\n",
      "357/357 [==============================] - 0s 84us/sample - loss: 303.0854 - mean_absolute_error: 301.9353 - val_loss: 933.1534 - val_mean_absolute_error: 878.1624\n",
      "Epoch 19/100\n",
      "357/357 [==============================] - 0s 85us/sample - loss: 225.3392 - mean_absolute_error: 220.2847 - val_loss: 821.8183 - val_mean_absolute_error: 802.2600\n",
      "Epoch 20/100\n",
      "357/357 [==============================] - 0s 85us/sample - loss: 226.7414 - mean_absolute_error: 233.8724 - val_loss: 904.9939 - val_mean_absolute_error: 856.8292\n",
      "Epoch 21/100\n",
      "357/357 [==============================] - 0s 87us/sample - loss: 211.3213 - mean_absolute_error: 198.0663 - val_loss: 814.0910 - val_mean_absolute_error: 795.2076\n",
      "Epoch 22/100\n",
      "357/357 [==============================] - 0s 85us/sample - loss: 223.2067 - mean_absolute_error: 217.5207 - val_loss: 808.8679 - val_mean_absolute_error: 790.4430\n",
      "Epoch 23/100\n",
      "357/357 [==============================] - 0s 83us/sample - loss: 225.5761 - mean_absolute_error: 219.8622 - val_loss: 765.8732 - val_mean_absolute_error: 763.5431\n",
      "Epoch 24/100\n",
      "357/357 [==============================] - 0s 85us/sample - loss: 216.6789 - mean_absolute_error: 206.5990 - val_loss: 766.4596 - val_mean_absolute_error: 759.6348\n",
      "Epoch 25/100\n",
      "357/357 [==============================] - 0s 84us/sample - loss: 209.7976 - mean_absolute_error: 206.5511 - val_loss: 773.5457 - val_mean_absolute_error: 762.9380\n",
      "Epoch 26/100\n",
      "357/357 [==============================] - 0s 85us/sample - loss: 215.7116 - mean_absolute_error: 204.0541 - val_loss: 1067.0432 - val_mean_absolute_error: 981.4156\n",
      "Epoch 27/100\n",
      "357/357 [==============================] - 0s 86us/sample - loss: 198.7296 - mean_absolute_error: 193.9477 - val_loss: 932.3319 - val_mean_absolute_error: 879.5465\n",
      "Epoch 28/100\n",
      "357/357 [==============================] - 0s 85us/sample - loss: 197.6394 - mean_absolute_error: 191.1198 - val_loss: 953.8460 - val_mean_absolute_error: 896.2042\n",
      "Epoch 29/100\n",
      "357/357 [==============================] - 0s 87us/sample - loss: 198.7025 - mean_absolute_error: 199.8654 - val_loss: 1096.9429 - val_mean_absolute_error: 1002.4288\n",
      "Epoch 30/100\n",
      "357/357 [==============================] - 0s 84us/sample - loss: 306.2841 - mean_absolute_error: 295.2552 - val_loss: 773.1146 - val_mean_absolute_error: 757.2192\n",
      "Epoch 31/100\n",
      "357/357 [==============================] - 0s 87us/sample - loss: 244.1285 - mean_absolute_error: 237.6019 - val_loss: 720.7773 - val_mean_absolute_error: 720.5349\n",
      "Epoch 32/100\n",
      "357/357 [==============================] - 0s 90us/sample - loss: 202.1112 - mean_absolute_error: 192.7224 - val_loss: 776.2501 - val_mean_absolute_error: 758.9734\n",
      "Epoch 33/100\n",
      "357/357 [==============================] - 0s 87us/sample - loss: 190.7431 - mean_absolute_error: 181.7525 - val_loss: 776.5886 - val_mean_absolute_error: 757.9893\n",
      "Epoch 34/100\n",
      "357/357 [==============================] - 0s 85us/sample - loss: 187.0162 - mean_absolute_error: 182.2714 - val_loss: 850.1822 - val_mean_absolute_error: 815.4283\n",
      "Epoch 35/100\n",
      "357/357 [==============================] - 0s 85us/sample - loss: 188.9036 - mean_absolute_error: 198.4330 - val_loss: 819.1645 - val_mean_absolute_error: 790.0596\n",
      "Epoch 36/100\n",
      "357/357 [==============================] - 0s 84us/sample - loss: 188.1284 - mean_absolute_error: 181.9852 - val_loss: 720.9967 - val_mean_absolute_error: 717.2145\n",
      "Epoch 37/100\n",
      "357/357 [==============================] - 0s 92us/sample - loss: 205.0109 - mean_absolute_error: 200.5978 - val_loss: 699.8063 - val_mean_absolute_error: 701.5458\n",
      "Epoch 38/100\n",
      "357/357 [==============================] - 0s 87us/sample - loss: 196.0143 - mean_absolute_error: 191.5670 - val_loss: 736.6631 - val_mean_absolute_error: 724.9689\n",
      "Epoch 39/100\n",
      "357/357 [==============================] - 0s 87us/sample - loss: 187.9742 - mean_absolute_error: 187.3681 - val_loss: 700.8392 - val_mean_absolute_error: 699.7864\n",
      "Epoch 40/100\n",
      "357/357 [==============================] - 0s 88us/sample - loss: 189.9560 - mean_absolute_error: 181.2134 - val_loss: 718.0790 - val_mean_absolute_error: 710.4856\n",
      "Epoch 41/100\n",
      "357/357 [==============================] - 0s 91us/sample - loss: 178.2262 - mean_absolute_error: 182.0776 - val_loss: 758.7969 - val_mean_absolute_error: 739.8710\n",
      "Epoch 42/100\n",
      "357/357 [==============================] - 0s 88us/sample - loss: 197.7981 - mean_absolute_error: 194.7114 - val_loss: 694.0505 - val_mean_absolute_error: 690.6721\n",
      "Epoch 43/100\n",
      "357/357 [==============================] - 0s 85us/sample - loss: 219.0947 - mean_absolute_error: 204.9933 - val_loss: 726.5740 - val_mean_absolute_error: 711.9667\n",
      "Epoch 44/100\n",
      "357/357 [==============================] - 0s 90us/sample - loss: 182.7459 - mean_absolute_error: 175.2569 - val_loss: 852.7518 - val_mean_absolute_error: 816.5369\n",
      "Epoch 45/100\n",
      "357/357 [==============================] - 0s 88us/sample - loss: 175.7744 - mean_absolute_error: 167.4030 - val_loss: 754.6868 - val_mean_absolute_error: 735.6598\n",
      "Epoch 46/100\n",
      "357/357 [==============================] - 0s 92us/sample - loss: 171.6359 - mean_absolute_error: 173.3922 - val_loss: 760.8292 - val_mean_absolute_error: 741.1687\n"
     ]
    },
    {
     "name": "stdout",
     "output_type": "stream",
     "text": [
      "Epoch 47/100\n",
      "357/357 [==============================] - 0s 90us/sample - loss: 185.5186 - mean_absolute_error: 183.8525 - val_loss: 908.1862 - val_mean_absolute_error: 857.8311\n",
      "Epoch 48/100\n",
      "357/357 [==============================] - 0s 85us/sample - loss: 208.6793 - mean_absolute_error: 199.1435 - val_loss: 981.4579 - val_mean_absolute_error: 912.1832\n",
      "Epoch 49/100\n",
      "357/357 [==============================] - 0s 83us/sample - loss: 205.0031 - mean_absolute_error: 221.5627 - val_loss: 977.1646 - val_mean_absolute_error: 908.7656\n",
      "Epoch 50/100\n",
      "357/357 [==============================] - 0s 88us/sample - loss: 188.3127 - mean_absolute_error: 180.4303 - val_loss: 732.9117 - val_mean_absolute_error: 713.8546\n",
      "Epoch 51/100\n",
      "357/357 [==============================] - 0s 90us/sample - loss: 167.6398 - mean_absolute_error: 161.0563 - val_loss: 869.5321 - val_mean_absolute_error: 826.6400\n",
      "Epoch 52/100\n",
      "357/357 [==============================] - 0s 88us/sample - loss: 176.3283 - mean_absolute_error: 170.9387 - val_loss: 781.6307 - val_mean_absolute_error: 756.2760\n",
      "Epoch 53/100\n",
      "357/357 [==============================] - 0s 90us/sample - loss: 170.1352 - mean_absolute_error: 180.3071 - val_loss: 752.6701 - val_mean_absolute_error: 731.0988\n",
      "Epoch 54/100\n",
      "357/357 [==============================] - 0s 91us/sample - loss: 164.8015 - mean_absolute_error: 197.5773 - val_loss: 684.3969 - val_mean_absolute_error: 670.1971\n",
      "Epoch 55/100\n",
      "357/357 [==============================] - 0s 88us/sample - loss: 249.1743 - mean_absolute_error: 235.6370 - val_loss: 695.0794 - val_mean_absolute_error: 675.2664\n",
      "Epoch 56/100\n",
      "357/357 [==============================] - 0s 87us/sample - loss: 247.5125 - mean_absolute_error: 237.6868 - val_loss: 697.3597 - val_mean_absolute_error: 677.4385\n",
      "Epoch 57/100\n",
      "357/357 [==============================] - 0s 87us/sample - loss: 226.2766 - mean_absolute_error: 218.8956 - val_loss: 690.8162 - val_mean_absolute_error: 676.5620\n",
      "Epoch 58/100\n",
      "357/357 [==============================] - 0s 90us/sample - loss: 192.4972 - mean_absolute_error: 186.9643 - val_loss: 708.6413 - val_mean_absolute_error: 683.3258\n",
      "Epoch 59/100\n",
      "357/357 [==============================] - 0s 88us/sample - loss: 213.4859 - mean_absolute_error: 205.3204 - val_loss: 696.4932 - val_mean_absolute_error: 677.0386\n",
      "Epoch 60/100\n",
      "357/357 [==============================] - 0s 87us/sample - loss: 198.3536 - mean_absolute_error: 215.5655 - val_loss: 696.5093 - val_mean_absolute_error: 675.9968\n",
      "Epoch 61/100\n",
      "357/357 [==============================] - 0s 83us/sample - loss: 213.4802 - mean_absolute_error: 224.6784 - val_loss: 708.1417 - val_mean_absolute_error: 688.7861\n",
      "Epoch 62/100\n",
      "357/357 [==============================] - 0s 81us/sample - loss: 195.5505 - mean_absolute_error: 216.8915 - val_loss: 849.4399 - val_mean_absolute_error: 809.9985\n",
      "Epoch 63/100\n",
      "357/357 [==============================] - 0s 84us/sample - loss: 184.6759 - mean_absolute_error: 174.6044 - val_loss: 870.5416 - val_mean_absolute_error: 825.8182\n",
      "Epoch 64/100\n",
      "357/357 [==============================] - 0s 84us/sample - loss: 168.7430 - mean_absolute_error: 161.6918 - val_loss: 773.0308 - val_mean_absolute_error: 748.6212\n",
      "Epoch 65/100\n",
      "357/357 [==============================] - 0s 83us/sample - loss: 160.7347 - mean_absolute_error: 155.6055 - val_loss: 694.5475 - val_mean_absolute_error: 674.5518\n",
      "Epoch 66/100\n",
      "357/357 [==============================] - 0s 80us/sample - loss: 196.9301 - mean_absolute_error: 198.0747 - val_loss: 692.6748 - val_mean_absolute_error: 673.9507\n",
      "Epoch 67/100\n",
      "357/357 [==============================] - 0s 83us/sample - loss: 173.0891 - mean_absolute_error: 189.8927 - val_loss: 692.9177 - val_mean_absolute_error: 673.9736\n",
      "Epoch 68/100\n",
      "357/357 [==============================] - 0s 91us/sample - loss: 167.0800 - mean_absolute_error: 165.6087 - val_loss: 689.7845 - val_mean_absolute_error: 669.8179\n",
      "Epoch 69/100\n",
      "357/357 [==============================] - 0s 90us/sample - loss: 191.3967 - mean_absolute_error: 187.5053 - val_loss: 690.3138 - val_mean_absolute_error: 668.9639\n",
      "Epoch 70/100\n",
      "357/357 [==============================] - 0s 87us/sample - loss: 183.4135 - mean_absolute_error: 176.3691 - val_loss: 691.3092 - val_mean_absolute_error: 672.3201\n",
      "Epoch 71/100\n",
      "357/357 [==============================] - 0s 95us/sample - loss: 164.6746 - mean_absolute_error: 156.9204 - val_loss: 689.3799 - val_mean_absolute_error: 668.6060\n",
      "Epoch 72/100\n",
      "357/357 [==============================] - 0s 85us/sample - loss: 171.0508 - mean_absolute_error: 164.7731 - val_loss: 686.8252 - val_mean_absolute_error: 667.0201\n",
      "Epoch 73/100\n",
      "357/357 [==============================] - 0s 84us/sample - loss: 178.5484 - mean_absolute_error: 182.3887 - val_loss: 706.0654 - val_mean_absolute_error: 689.9208\n",
      "Epoch 74/100\n",
      "357/357 [==============================] - 0s 84us/sample - loss: 164.8112 - mean_absolute_error: 168.5830 - val_loss: 719.8852 - val_mean_absolute_error: 703.9581\n",
      "Epoch 75/100\n",
      "357/357 [==============================] - 0s 85us/sample - loss: 165.6873 - mean_absolute_error: 169.7550 - val_loss: 689.0171 - val_mean_absolute_error: 663.0132\n",
      "Epoch 76/100\n",
      "357/357 [==============================] - 0s 87us/sample - loss: 191.0743 - mean_absolute_error: 183.2767 - val_loss: 711.7980 - val_mean_absolute_error: 694.6044\n",
      "Epoch 77/100\n",
      "357/357 [==============================] - 0s 84us/sample - loss: 166.1164 - mean_absolute_error: 162.5827 - val_loss: 714.0684 - val_mean_absolute_error: 696.4128\n",
      "Epoch 78/100\n",
      "357/357 [==============================] - 0s 85us/sample - loss: 160.1908 - mean_absolute_error: 154.7484 - val_loss: 832.0039 - val_mean_absolute_error: 794.7686\n",
      "Epoch 79/100\n",
      "357/357 [==============================] - 0s 87us/sample - loss: 194.2097 - mean_absolute_error: 186.8610 - val_loss: 1095.6060 - val_mean_absolute_error: 1007.0197\n",
      "Epoch 80/100\n",
      "357/357 [==============================] - 0s 83us/sample - loss: 252.5557 - mean_absolute_error: 240.5753 - val_loss: 888.5574 - val_mean_absolute_error: 837.5514\n",
      "Epoch 81/100\n",
      "357/357 [==============================] - 0s 85us/sample - loss: 202.1849 - mean_absolute_error: 192.9802 - val_loss: 1148.1675 - val_mean_absolute_error: 1055.0455\n",
      "Epoch 82/100\n",
      "357/357 [==============================] - 0s 80us/sample - loss: 230.8798 - mean_absolute_error: 241.7309 - val_loss: 703.3239 - val_mean_absolute_error: 686.7619\n",
      "Epoch 83/100\n",
      "357/357 [==============================] - 0s 83us/sample - loss: 172.5797 - mean_absolute_error: 165.4460 - val_loss: 682.0520 - val_mean_absolute_error: 657.4863\n",
      "Epoch 84/100\n",
      "357/357 [==============================] - 0s 84us/sample - loss: 198.6117 - mean_absolute_error: 204.6875 - val_loss: 684.1740 - val_mean_absolute_error: 657.7847\n",
      "Epoch 85/100\n",
      "357/357 [==============================] - 0s 86us/sample - loss: 190.5815 - mean_absolute_error: 197.5305 - val_loss: 682.0947 - val_mean_absolute_error: 658.1099\n",
      "Epoch 86/100\n",
      "357/357 [==============================] - 0s 85us/sample - loss: 163.4277 - mean_absolute_error: 155.9372 - val_loss: 678.9956 - val_mean_absolute_error: 657.9003\n",
      "Epoch 87/100\n",
      "357/357 [==============================] - 0s 94us/sample - loss: 187.4027 - mean_absolute_error: 182.9445 - val_loss: 678.8295 - val_mean_absolute_error: 659.6894\n",
      "Epoch 88/100\n",
      "357/357 [==============================] - 0s 91us/sample - loss: 175.0026 - mean_absolute_error: 172.0299 - val_loss: 681.4125 - val_mean_absolute_error: 661.3091\n",
      "Epoch 89/100\n",
      "357/357 [==============================] - 0s 87us/sample - loss: 174.9495 - mean_absolute_error: 175.1852 - val_loss: 725.2975 - val_mean_absolute_error: 708.9876\n",
      "Epoch 90/100\n",
      "357/357 [==============================] - 0s 84us/sample - loss: 191.2622 - mean_absolute_error: 185.8106 - val_loss: 749.9744 - val_mean_absolute_error: 729.6467\n",
      "Epoch 91/100\n",
      "357/357 [==============================] - 0s 84us/sample - loss: 194.4148 - mean_absolute_error: 192.2124 - val_loss: 689.4249 - val_mean_absolute_error: 670.9167\n",
      "Epoch 92/100\n",
      "357/357 [==============================] - 0s 87us/sample - loss: 179.7176 - mean_absolute_error: 178.6046 - val_loss: 717.0972 - val_mean_absolute_error: 698.8159\n",
      "Epoch 93/100\n"
     ]
    },
    {
     "name": "stdout",
     "output_type": "stream",
     "text": [
      "357/357 [==============================] - 0s 87us/sample - loss: 182.4417 - mean_absolute_error: 174.3420 - val_loss: 692.6243 - val_mean_absolute_error: 674.9531\n",
      "Epoch 94/100\n",
      "357/357 [==============================] - 0s 87us/sample - loss: 166.3528 - mean_absolute_error: 160.7056 - val_loss: 690.1785 - val_mean_absolute_error: 673.5957\n",
      "Epoch 95/100\n",
      "357/357 [==============================] - 0s 80us/sample - loss: 158.7428 - mean_absolute_error: 153.5604 - val_loss: 718.4778 - val_mean_absolute_error: 702.2188\n",
      "Epoch 96/100\n",
      "357/357 [==============================] - 0s 83us/sample - loss: 176.0867 - mean_absolute_error: 168.0586 - val_loss: 760.5849 - val_mean_absolute_error: 737.8950\n",
      "Epoch 97/100\n",
      "357/357 [==============================] - 0s 84us/sample - loss: 159.0908 - mean_absolute_error: 152.9085 - val_loss: 693.5892 - val_mean_absolute_error: 677.9086\n",
      "Epoch 98/100\n",
      "357/357 [==============================] - 0s 85us/sample - loss: 166.3226 - mean_absolute_error: 176.4953 - val_loss: 679.6510 - val_mean_absolute_error: 659.9681\n",
      "Epoch 99/100\n",
      "357/357 [==============================] - 0s 85us/sample - loss: 163.4819 - mean_absolute_error: 163.3607 - val_loss: 679.0722 - val_mean_absolute_error: 659.6334\n",
      "Epoch 100/100\n",
      "357/357 [==============================] - 0s 85us/sample - loss: 163.8196 - mean_absolute_error: 170.8453 - val_loss: 681.7172 - val_mean_absolute_error: 659.6573\n"
     ]
    },
    {
     "data": {
      "text/plain": [
       "<tensorflow.python.keras.callbacks.History at 0x23f5764f0c8>"
      ]
     },
     "execution_count": 14,
     "metadata": {},
     "output_type": "execute_result"
    }
   ],
   "source": [
    "model1.fit(x1, y1, epochs=100, validation_split=0.1)"
   ]
  },
  {
   "cell_type": "code",
   "execution_count": 15,
   "metadata": {},
   "outputs": [
    {
     "name": "stdout",
     "output_type": "stream",
     "text": [
      "45/45 [==============================] - 0s 111us/sample - loss: 350.8190 - mean_absolute_error: 312.6074\n",
      "312.60742\n"
     ]
    }
   ],
   "source": [
    "_, test_acc = model1.evaluate(x2, y2)\n",
    "print(test_acc)"
   ]
  },
  {
   "cell_type": "code",
   "execution_count": 16,
   "metadata": {},
   "outputs": [
    {
     "name": "stdout",
     "output_type": "stream",
     "text": [
      "[[7860.5024]] / [8662.8]\n"
     ]
    }
   ],
   "source": [
    "y_predicted = model1.predict(x2, verbose=0)\n",
    "y_predicted.shape\n",
    "print(\"{} / {}\".format(y_predicted[0], y2[0]))"
   ]
  },
  {
   "cell_type": "code",
   "execution_count": 17,
   "metadata": {},
   "outputs": [
    {
     "data": {
      "text/plain": [
       "[<matplotlib.lines.Line2D at 0x23f5a239d08>]"
      ]
     },
     "execution_count": 17,
     "metadata": {},
     "output_type": "execute_result"
    },
    {
     "data": {
      "image/png": "[encoded data removed]",
      "text/plain": [
       "<Figure size 1152x720 with 1 Axes>"
      ]
     },
     "metadata": {
      "needs_background": "light"
     },
     "output_type": "display_data"
    }
   ],
   "source": [
    "plt.plot(range(0,45),np.reshape(y2, (len(y2))), color='red', linewidth=4, label=\"Actual\")\n",
    "plt.plot(range(0,45),np.reshape(y_predicted, (len(y_predicted))), color='yellow', linewidth=2, label=\"Predicted\")"
   ]
  },
  {
   "cell_type": "code",
   "execution_count": 18,
   "metadata": {},
   "outputs": [],
   "source": [
    "model2 = Sequential()\n",
    "model2.add(LSTM(20, return_sequences=True,input_shape=(1,x1.shape[2]), activation=\"relu\"))\n",
    "model2.add(Dense(5))\n",
    "model2.add(Dense(1))\n",
    "model2.compile(loss=tf.keras.losses.MeanAbsoluteError(), optimizer='adam', metrics=[tf.keras.losses.MeanAbsoluteError()])"
   ]
  },
  {
   "cell_type": "code",
   "execution_count": 19,
   "metadata": {},
   "outputs": [
    {
     "name": "stdout",
     "output_type": "stream",
     "text": [
      "Train on 357 samples, validate on 40 samples\n",
      "Epoch 1/100\n",
      "357/357 [==============================] - 2s 6ms/sample - loss: 3832.1302 - mean_absolute_error: 3756.9963 - val_loss: 8074.3139 - val_mean_absolute_error: 6992.6592\n",
      "Epoch 2/100\n",
      "357/357 [==============================] - 0s 90us/sample - loss: 2605.5297 - mean_absolute_error: 2620.6377 - val_loss: 4912.6933 - val_mean_absolute_error: 4131.9712\n",
      "Epoch 3/100\n",
      "357/357 [==============================] - 0s 85us/sample - loss: 1672.6054 - mean_absolute_error: 1606.7788 - val_loss: 1734.4681 - val_mean_absolute_error: 1402.7859\n",
      "Epoch 4/100\n",
      "357/357 [==============================] - 0s 88us/sample - loss: 646.1127 - mean_absolute_error: 640.9383 - val_loss: 2274.1776 - val_mean_absolute_error: 2388.6667\n",
      "Epoch 5/100\n",
      "357/357 [==============================] - 0s 90us/sample - loss: 496.1736 - mean_absolute_error: 478.8640 - val_loss: 2815.2015 - val_mean_absolute_error: 2880.6311\n",
      "Epoch 6/100\n",
      "357/357 [==============================] - 0s 87us/sample - loss: 435.3330 - mean_absolute_error: 414.9680 - val_loss: 1800.8206 - val_mean_absolute_error: 1925.5767\n",
      "Epoch 7/100\n",
      "357/357 [==============================] - 0s 87us/sample - loss: 420.6727 - mean_absolute_error: 411.5858 - val_loss: 1711.3141 - val_mean_absolute_error: 1832.2997\n",
      "Epoch 8/100\n",
      "357/357 [==============================] - 0s 88us/sample - loss: 414.0203 - mean_absolute_error: 386.4833 - val_loss: 2065.6927 - val_mean_absolute_error: 2180.5835\n",
      "Epoch 9/100\n",
      "357/357 [==============================] - 0s 90us/sample - loss: 415.3078 - mean_absolute_error: 418.5616 - val_loss: 1852.6267 - val_mean_absolute_error: 1970.7422\n",
      "Epoch 10/100\n",
      "357/357 [==============================] - 0s 90us/sample - loss: 409.1618 - mean_absolute_error: 390.5893 - val_loss: 2065.3159 - val_mean_absolute_error: 2174.2463\n",
      "Epoch 11/100\n",
      "357/357 [==============================] - 0s 92us/sample - loss: 406.1744 - mean_absolute_error: 388.8903 - val_loss: 1802.0003 - val_mean_absolute_error: 1913.7798\n",
      "Epoch 12/100\n",
      "357/357 [==============================] - 0s 91us/sample - loss: 399.1979 - mean_absolute_error: 380.2302 - val_loss: 1919.9891 - val_mean_absolute_error: 2027.2756\n",
      "Epoch 13/100\n",
      "357/357 [==============================] - 0s 90us/sample - loss: 398.0306 - mean_absolute_error: 384.3381 - val_loss: 1865.5985 - val_mean_absolute_error: 1971.4022\n",
      "Epoch 14/100\n",
      "357/357 [==============================] - 0s 90us/sample - loss: 396.5608 - mean_absolute_error: 380.3974 - val_loss: 1836.6267 - val_mean_absolute_error: 1939.7029\n",
      "Epoch 15/100\n",
      "357/357 [==============================] - 0s 95us/sample - loss: 392.5697 - mean_absolute_error: 372.9322 - val_loss: 1930.4158 - val_mean_absolute_error: 2027.5248\n",
      "Epoch 16/100\n",
      "357/357 [==============================] - 0s 90us/sample - loss: 389.7338 - mean_absolute_error: 416.4150 - val_loss: 1658.7991 - val_mean_absolute_error: 1753.4371\n",
      "Epoch 17/100\n",
      "357/357 [==============================] - 0s 90us/sample - loss: 394.7120 - mean_absolute_error: 378.6398 - val_loss: 1686.8295 - val_mean_absolute_error: 1778.6506\n",
      "Epoch 18/100\n",
      "357/357 [==============================] - 0s 91us/sample - loss: 391.6236 - mean_absolute_error: 367.3470 - val_loss: 1918.6505 - val_mean_absolute_error: 2005.5162\n",
      "Epoch 19/100\n",
      "357/357 [==============================] - 0s 91us/sample - loss: 380.0095 - mean_absolute_error: 370.3203 - val_loss: 1687.5473 - val_mean_absolute_error: 1773.3577\n",
      "Epoch 20/100\n",
      "357/357 [==============================] - 0s 95us/sample - loss: 377.2921 - mean_absolute_error: 367.1861 - val_loss: 1842.3518 - val_mean_absolute_error: 1924.9116\n",
      "Epoch 21/100\n",
      "357/357 [==============================] - 0s 90us/sample - loss: 375.7141 - mean_absolute_error: 366.1520 - val_loss: 1786.1190 - val_mean_absolute_error: 1866.4023\n",
      "Epoch 22/100\n",
      "357/357 [==============================] - 0s 91us/sample - loss: 371.5824 - mean_absolute_error: 356.3061 - val_loss: 1594.4273 - val_mean_absolute_error: 1669.0872\n",
      "Epoch 23/100\n",
      "357/357 [==============================] - 0s 90us/sample - loss: 367.8315 - mean_absolute_error: 345.9594 - val_loss: 1801.9972 - val_mean_absolute_error: 1875.0458\n",
      "Epoch 24/100\n",
      "357/357 [==============================] - 0s 94us/sample - loss: 365.2216 - mean_absolute_error: 345.2488 - val_loss: 1728.5737 - val_mean_absolute_error: 1798.4774\n",
      "Epoch 25/100\n",
      "357/357 [==============================] - 0s 95us/sample - loss: 362.8781 - mean_absolute_error: 385.5440 - val_loss: 1691.5396 - val_mean_absolute_error: 1757.6017\n",
      "Epoch 26/100\n",
      "357/357 [==============================] - 0s 92us/sample - loss: 363.0730 - mean_absolute_error: 340.9642 - val_loss: 1798.9136 - val_mean_absolute_error: 1859.2192\n",
      "Epoch 27/100\n",
      "357/357 [==============================] - 0s 87us/sample - loss: 374.2232 - mean_absolute_error: 385.4038 - val_loss: 1639.2609 - val_mean_absolute_error: 1697.3809\n",
      "Epoch 28/100\n",
      "357/357 [==============================] - 0s 91us/sample - loss: 380.7872 - mean_absolute_error: 372.5283 - val_loss: 1744.6154 - val_mean_absolute_error: 1799.5338\n",
      "Epoch 29/100\n",
      "357/357 [==============================] - 0s 92us/sample - loss: 350.7651 - mean_absolute_error: 341.9192 - val_loss: 1509.9264 - val_mean_absolute_error: 1559.7224\n",
      "Epoch 30/100\n",
      "357/357 [==============================] - 0s 90us/sample - loss: 346.1632 - mean_absolute_error: 348.0271 - val_loss: 1630.2874 - val_mean_absolute_error: 1678.4503\n",
      "Epoch 31/100\n",
      "357/357 [==============================] - 0s 91us/sample - loss: 343.9137 - mean_absolute_error: 394.8723 - val_loss: 1669.2449 - val_mean_absolute_error: 1713.7979\n",
      "Epoch 32/100\n",
      "357/357 [==============================] - 0s 91us/sample - loss: 352.2852 - mean_absolute_error: 345.7580 - val_loss: 1453.3990 - val_mean_absolute_error: 1492.2917\n",
      "Epoch 33/100\n",
      "357/357 [==============================] - 0s 87us/sample - loss: 334.7802 - mean_absolute_error: 342.3481 - val_loss: 1655.7958 - val_mean_absolute_error: 1692.6320\n",
      "Epoch 34/100\n",
      "357/357 [==============================] - 0s 88us/sample - loss: 333.7242 - mean_absolute_error: 317.8228 - val_loss: 1519.9490 - val_mean_absolute_error: 1553.0531\n",
      "Epoch 35/100\n",
      "357/357 [==============================] - 0s 91us/sample - loss: 330.0749 - mean_absolute_error: 315.7898 - val_loss: 1589.9570 - val_mean_absolute_error: 1619.9729\n",
      "Epoch 36/100\n",
      "357/357 [==============================] - 0s 90us/sample - loss: 328.0652 - mean_absolute_error: 330.6199 - val_loss: 1452.3683 - val_mean_absolute_error: 1477.7609\n",
      "Epoch 37/100\n",
      "357/357 [==============================] - 0s 91us/sample - loss: 323.2570 - mean_absolute_error: 327.3846 - val_loss: 1579.1740 - val_mean_absolute_error: 1601.0436\n",
      "Epoch 38/100\n",
      "357/357 [==============================] - 0s 90us/sample - loss: 327.5670 - mean_absolute_error: 316.4252 - val_loss: 1476.9434 - val_mean_absolute_error: 1495.1887\n",
      "Epoch 39/100\n",
      "357/357 [==============================] - 0s 91us/sample - loss: 321.5992 - mean_absolute_error: 368.3476 - val_loss: 1572.9679 - val_mean_absolute_error: 1586.0601\n",
      "Epoch 40/100\n",
      "357/357 [==============================] - 0s 92us/sample - loss: 312.6664 - mean_absolute_error: 299.8198 - val_loss: 1426.6320 - val_mean_absolute_error: 1436.7747\n",
      "Epoch 41/100\n",
      "357/357 [==============================] - 0s 90us/sample - loss: 309.0266 - mean_absolute_error: 305.3706 - val_loss: 1483.7385 - val_mean_absolute_error: 1489.4445\n",
      "Epoch 42/100\n",
      "357/357 [==============================] - 0s 88us/sample - loss: 310.6899 - mean_absolute_error: 332.3785 - val_loss: 1366.9449 - val_mean_absolute_error: 1368.8215\n",
      "Epoch 43/100\n",
      "357/357 [==============================] - 0s 91us/sample - loss: 302.5565 - mean_absolute_error: 284.0069 - val_loss: 1520.5594 - val_mean_absolute_error: 1516.7483\n",
      "Epoch 44/100\n",
      "357/357 [==============================] - 0s 88us/sample - loss: 302.6142 - mean_absolute_error: 323.5839 - val_loss: 1298.6720 - val_mean_absolute_error: 1292.7333\n",
      "Epoch 45/100\n",
      "357/357 [==============================] - 0s 88us/sample - loss: 302.5059 - mean_absolute_error: 302.7084 - val_loss: 1431.4842 - val_mean_absolute_error: 1420.9263\n",
      "Epoch 46/100\n"
     ]
    },
    {
     "name": "stdout",
     "output_type": "stream",
     "text": [
      "357/357 [==============================] - 0s 94us/sample - loss: 308.7838 - mean_absolute_error: 333.8676 - val_loss: 1376.3479 - val_mean_absolute_error: 1362.6157\n",
      "Epoch 47/100\n",
      "357/357 [==============================] - 0s 91us/sample - loss: 292.8573 - mean_absolute_error: 280.7475 - val_loss: 1340.6305 - val_mean_absolute_error: 1323.2236\n",
      "Epoch 48/100\n",
      "357/357 [==============================] - 0s 85us/sample - loss: 297.7979 - mean_absolute_error: 335.6896 - val_loss: 1213.3088 - val_mean_absolute_error: 1189.1448\n",
      "Epoch 49/100\n",
      "357/357 [==============================] - 0s 88us/sample - loss: 294.6406 - mean_absolute_error: 279.6108 - val_loss: 1365.3950 - val_mean_absolute_error: 1339.8090\n",
      "Epoch 50/100\n",
      "357/357 [==============================] - 0s 90us/sample - loss: 285.9381 - mean_absolute_error: 275.5129 - val_loss: 1258.6134 - val_mean_absolute_error: 1230.6565\n",
      "Epoch 51/100\n",
      "357/357 [==============================] - 0s 88us/sample - loss: 284.7993 - mean_absolute_error: 268.3067 - val_loss: 1181.3060 - val_mean_absolute_error: 1143.7457\n",
      "Epoch 52/100\n",
      "357/357 [==============================] - 0s 91us/sample - loss: 287.0085 - mean_absolute_error: 275.5776 - val_loss: 1274.6924 - val_mean_absolute_error: 1238.9238\n",
      "Epoch 53/100\n",
      "357/357 [==============================] - 0s 92us/sample - loss: 284.2409 - mean_absolute_error: 301.3946 - val_loss: 1425.0362 - val_mean_absolute_error: 1382.6829\n",
      "Epoch 54/100\n",
      "357/357 [==============================] - 0s 92us/sample - loss: 288.6485 - mean_absolute_error: 278.8481 - val_loss: 1236.8781 - val_mean_absolute_error: 1192.4480\n",
      "Epoch 55/100\n",
      "357/357 [==============================] - 0s 88us/sample - loss: 271.7625 - mean_absolute_error: 264.1640 - val_loss: 1293.7431 - val_mean_absolute_error: 1244.7655\n",
      "Epoch 56/100\n",
      "357/357 [==============================] - 0s 88us/sample - loss: 269.2795 - mean_absolute_error: 264.9163 - val_loss: 1229.0473 - val_mean_absolute_error: 1175.3313\n",
      "Epoch 57/100\n",
      "357/357 [==============================] - 0s 91us/sample - loss: 272.4037 - mean_absolute_error: 276.8044 - val_loss: 1139.7437 - val_mean_absolute_error: 1080.8674\n",
      "Epoch 58/100\n",
      "357/357 [==============================] - 0s 90us/sample - loss: 270.9057 - mean_absolute_error: 265.6066 - val_loss: 1248.5062 - val_mean_absolute_error: 1187.1669\n",
      "Epoch 59/100\n",
      "357/357 [==============================] - 0s 88us/sample - loss: 262.7309 - mean_absolute_error: 258.9503 - val_loss: 1188.9528 - val_mean_absolute_error: 1124.2651\n",
      "Epoch 60/100\n",
      "357/357 [==============================] - 0s 88us/sample - loss: 260.9822 - mean_absolute_error: 258.4560 - val_loss: 1199.6132 - val_mean_absolute_error: 1131.2883\n",
      "Epoch 61/100\n",
      "357/357 [==============================] - 0s 88us/sample - loss: 260.8276 - mean_absolute_error: 252.8134 - val_loss: 1065.5557 - val_mean_absolute_error: 991.0813\n",
      "Epoch 62/100\n",
      "357/357 [==============================] - 0s 87us/sample - loss: 267.2899 - mean_absolute_error: 261.9893 - val_loss: 1177.2125 - val_mean_absolute_error: 1102.1503\n",
      "Epoch 63/100\n",
      "357/357 [==============================] - 0s 91us/sample - loss: 257.7760 - mean_absolute_error: 272.7657 - val_loss: 1270.6356 - val_mean_absolute_error: 1190.9912\n",
      "Epoch 64/100\n",
      "357/357 [==============================] - 0s 90us/sample - loss: 269.5765 - mean_absolute_error: 266.8061 - val_loss: 1015.6017 - val_mean_absolute_error: 929.7565\n",
      "Epoch 65/100\n",
      "357/357 [==============================] - 0s 118us/sample - loss: 263.3015 - mean_absolute_error: 254.2488 - val_loss: 1386.9359 - val_mean_absolute_error: 1300.6084\n",
      "Epoch 66/100\n",
      "357/357 [==============================] - 0s 88us/sample - loss: 261.5774 - mean_absolute_error: 267.1857 - val_loss: 1118.6850 - val_mean_absolute_error: 1031.6650\n",
      "Epoch 67/100\n",
      "357/357 [==============================] - 0s 91us/sample - loss: 249.5585 - mean_absolute_error: 251.7620 - val_loss: 1163.1033 - val_mean_absolute_error: 1073.0778\n",
      "Epoch 68/100\n",
      "357/357 [==============================] - 0s 94us/sample - loss: 248.3529 - mean_absolute_error: 237.3561 - val_loss: 1142.3845 - val_mean_absolute_error: 1049.6912\n",
      "Epoch 69/100\n",
      "357/357 [==============================] - 0s 94us/sample - loss: 246.7990 - mean_absolute_error: 238.9762 - val_loss: 1158.6444 - val_mean_absolute_error: 1062.9246\n",
      "Epoch 70/100\n",
      "357/357 [==============================] - 0s 91us/sample - loss: 247.0005 - mean_absolute_error: 241.5013 - val_loss: 1099.8619 - val_mean_absolute_error: 1002.0330\n",
      "Epoch 71/100\n",
      "357/357 [==============================] - 0s 92us/sample - loss: 246.9977 - mean_absolute_error: 244.5712 - val_loss: 1120.2559 - val_mean_absolute_error: 1019.5541\n",
      "Epoch 72/100\n",
      "357/357 [==============================] - 0s 92us/sample - loss: 246.2470 - mean_absolute_error: 241.8038 - val_loss: 1148.2995 - val_mean_absolute_error: 1044.6525\n",
      "Epoch 73/100\n",
      "357/357 [==============================] - 0s 88us/sample - loss: 242.9122 - mean_absolute_error: 241.5675 - val_loss: 1079.3159 - val_mean_absolute_error: 973.4538\n",
      "Epoch 74/100\n",
      "357/357 [==============================] - 0s 90us/sample - loss: 242.5749 - mean_absolute_error: 242.9370 - val_loss: 1021.7835 - val_mean_absolute_error: 914.7525\n",
      "Epoch 75/100\n",
      "357/357 [==============================] - 0s 90us/sample - loss: 248.3009 - mean_absolute_error: 242.2124 - val_loss: 1130.2914 - val_mean_absolute_error: 1020.7260\n",
      "Epoch 76/100\n",
      "357/357 [==============================] - 0s 90us/sample - loss: 246.1352 - mean_absolute_error: 256.1412 - val_loss: 1018.8688 - val_mean_absolute_error: 909.5819\n",
      "Epoch 77/100\n",
      "357/357 [==============================] - 0s 88us/sample - loss: 241.9155 - mean_absolute_error: 296.4306 - val_loss: 1008.8229 - val_mean_absolute_error: 898.7131\n",
      "Epoch 78/100\n",
      "357/357 [==============================] - 0s 92us/sample - loss: 256.7867 - mean_absolute_error: 248.1771 - val_loss: 1229.6397 - val_mean_absolute_error: 1109.1365\n",
      "Epoch 79/100\n",
      "357/357 [==============================] - 0s 88us/sample - loss: 245.7066 - mean_absolute_error: 250.9513 - val_loss: 917.2495 - val_mean_absolute_error: 816.0276\n",
      "Epoch 80/100\n",
      "357/357 [==============================] - 0s 91us/sample - loss: 241.6005 - mean_absolute_error: 258.9154 - val_loss: 1119.5625 - val_mean_absolute_error: 999.4631\n",
      "Epoch 81/100\n",
      "357/357 [==============================] - 0s 91us/sample - loss: 242.9958 - mean_absolute_error: 236.6740 - val_loss: 1042.8177 - val_mean_absolute_error: 925.2627\n",
      "Epoch 82/100\n",
      "357/357 [==============================] - 0s 90us/sample - loss: 236.9029 - mean_absolute_error: 223.5943 - val_loss: 1017.4792 - val_mean_absolute_error: 900.8920\n",
      "Epoch 83/100\n",
      "357/357 [==============================] - 0s 108us/sample - loss: 238.2936 - mean_absolute_error: 237.2691 - val_loss: 1074.9775 - val_mean_absolute_error: 952.3196\n",
      "Epoch 84/100\n",
      "357/357 [==============================] - 0s 111us/sample - loss: 241.4741 - mean_absolute_error: 231.7914 - val_loss: 962.4344 - val_mean_absolute_error: 852.1542\n",
      "Epoch 85/100\n",
      "357/357 [==============================] - 0s 120us/sample - loss: 238.6438 - mean_absolute_error: 240.9635 - val_loss: 1128.6209 - val_mean_absolute_error: 999.5488\n",
      "Epoch 86/100\n",
      "357/357 [==============================] - 0s 122us/sample - loss: 234.7021 - mean_absolute_error: 237.5643 - val_loss: 885.0532 - val_mean_absolute_error: 788.0681\n",
      "Epoch 87/100\n",
      "357/357 [==============================] - 0s 130us/sample - loss: 243.2300 - mean_absolute_error: 241.1347 - val_loss: 1228.8084 - val_mean_absolute_error: 1091.5396\n",
      "Epoch 88/100\n",
      "357/357 [==============================] - 0s 146us/sample - loss: 254.5334 - mean_absolute_error: 263.0125 - val_loss: 834.5768 - val_mean_absolute_error: 744.6107\n",
      "Epoch 89/100\n",
      "357/357 [==============================] - 0s 104us/sample - loss: 251.3092 - mean_absolute_error: 235.1862 - val_loss: 1201.1990 - val_mean_absolute_error: 1062.7961\n",
      "Epoch 90/100\n",
      "357/357 [==============================] - 0s 98us/sample - loss: 232.6233 - mean_absolute_error: 235.4662 - val_loss: 910.3445 - val_mean_absolute_error: 808.9774\n",
      "Epoch 91/100\n",
      "357/357 [==============================] - 0s 97us/sample - loss: 228.6039 - mean_absolute_error: 233.4044 - val_loss: 1128.8538 - val_mean_absolute_error: 991.5558\n"
     ]
    },
    {
     "name": "stdout",
     "output_type": "stream",
     "text": [
      "Epoch 92/100\n",
      "357/357 [==============================] - 0s 94us/sample - loss: 236.9145 - mean_absolute_error: 225.3148 - val_loss: 950.2220 - val_mean_absolute_error: 841.1056\n",
      "Epoch 93/100\n",
      "357/357 [==============================] - 0s 95us/sample - loss: 228.6444 - mean_absolute_error: 244.3748 - val_loss: 1077.3935 - val_mean_absolute_error: 944.7104\n",
      "Epoch 94/100\n",
      "357/357 [==============================] - 0s 97us/sample - loss: 231.6491 - mean_absolute_error: 222.0719 - val_loss: 940.8166 - val_mean_absolute_error: 833.3949\n",
      "Epoch 95/100\n",
      "357/357 [==============================] - 0s 90us/sample - loss: 230.0678 - mean_absolute_error: 233.3607 - val_loss: 1125.1052 - val_mean_absolute_error: 984.8456\n",
      "Epoch 96/100\n",
      "357/357 [==============================] - 0s 95us/sample - loss: 234.4659 - mean_absolute_error: 226.2134 - val_loss: 914.8423 - val_mean_absolute_error: 812.0559\n",
      "Epoch 97/100\n",
      "357/357 [==============================] - 0s 92us/sample - loss: 229.5377 - mean_absolute_error: 252.2278 - val_loss: 1085.9081 - val_mean_absolute_error: 948.8860\n",
      "Epoch 98/100\n",
      "357/357 [==============================] - 0s 94us/sample - loss: 224.1337 - mean_absolute_error: 227.2799 - val_loss: 892.8881 - val_mean_absolute_error: 793.6133\n",
      "Epoch 99/100\n",
      "357/357 [==============================] - 0s 92us/sample - loss: 224.9067 - mean_absolute_error: 220.2741 - val_loss: 1089.8723 - val_mean_absolute_error: 951.3142\n",
      "Epoch 100/100\n",
      "357/357 [==============================] - 0s 91us/sample - loss: 232.8808 - mean_absolute_error: 229.1641 - val_loss: 880.1204 - val_mean_absolute_error: 782.0162\n"
     ]
    },
    {
     "data": {
      "text/plain": [
       "<tensorflow.python.keras.callbacks.History at 0x23f5a5908c8>"
      ]
     },
     "execution_count": 19,
     "metadata": {},
     "output_type": "execute_result"
    }
   ],
   "source": [
    "model2.fit(x1, y1, epochs=100, validation_split=0.1)"
   ]
  },
  {
   "cell_type": "code",
   "execution_count": 20,
   "metadata": {},
   "outputs": [
    {
     "name": "stdout",
     "output_type": "stream",
     "text": [
      "45/45 [==============================] - 0s 111us/sample - loss: 485.6928 - mean_absolute_error: 454.3432\n",
      "454.3432\n"
     ]
    }
   ],
   "source": [
    "_, test_acc = model2.evaluate(x2, y2)\n",
    "print(test_acc)"
   ]
  },
  {
   "cell_type": "code",
   "execution_count": 21,
   "metadata": {},
   "outputs": [
    {
     "name": "stdout",
     "output_type": "stream",
     "text": [
      "[[9014.863]] / [8662.8]\n"
     ]
    }
   ],
   "source": [
    "y_predicted = model2.predict(x2, verbose=0)\n",
    "y_predicted.shape\n",
    "print(\"{} / {}\".format(y_predicted[0], y2[0]))"
   ]
  },
  {
   "cell_type": "code",
   "execution_count": 22,
   "metadata": {},
   "outputs": [
    {
     "data": {
      "text/plain": [
       "[<matplotlib.lines.Line2D at 0x23f5d3fec48>]"
      ]
     },
     "execution_count": 22,
     "metadata": {},
     "output_type": "execute_result"
    },
    {
     "data": {
      "image/png": "[encoded data removed]",
      "text/plain": [
       "<Figure size 1152x720 with 1 Axes>"
      ]
     },
     "metadata": {
      "needs_background": "light"
     },
     "output_type": "display_data"
    }
   ],
   "source": [
    "plt.plot(range(0,45),np.reshape(y2, (len(y2))), color='red', linewidth=4, label=\"Actual\")\n",
    "plt.plot(range(0,45),np.reshape(y_predicted, (len(y_predicted))), color='yellow', linewidth=2, label=\"Predicted\")"
   ]
  },
  {
   "cell_type": "code",
   "execution_count": null,
   "metadata": {},
   "outputs": [],
   "source": []
  }
 ],
 "metadata": {
  "kernelspec": {
   "display_name": "Python 3",
   "language": "python",
   "name": "python3"
  },
  "language_info": {
   "codemirror_mode": {
    "name": "ipython",
    "version": 3
   },
   "file_extension": ".py",
   "mimetype": "text/x-python",
   "name": "python",
   "nbconvert_exporter": "python",
   "pygments_lexer": "ipython3",
   "version": "3.7.7"
  }
 },
 "nbformat": 4,
 "nbformat_minor": 4
}
