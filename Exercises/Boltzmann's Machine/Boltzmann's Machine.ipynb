{
 "cells": [
  {
   "cell_type": "markdown",
   "metadata": {},
   "source": [
    "# Boltzmann's Machine\n",
    "\n",
    "This notebook was created by Camille-Amaury JUGE, in order to better understand Boltzmann's Machine (BM) principles and how they work.\n",
    "\n",
    "(it follows the exercices proposed by Hadelin de Ponteves on Udemy : https://www.udemy.com/course/le-deep-learning-de-a-a-z/)\n",
    "\n",
    "## Imports"
   ]
  },
  {
   "cell_type": "code",
   "execution_count": 1,
   "metadata": {},
   "outputs": [],
   "source": [
    "import numpy as np\n",
    "import pandas as pd\n",
    "# pytorch\n",
    "import torch\n",
    "import torch.nn\n",
    "import torch.nn.parallel\n",
    "import torch.optim as optim\n",
    "import torch.utils.data\n",
    "from torch.autograd import Variable\n",
    "\n",
    "import sys\n",
    "import csv"
   ]
  },
  {
   "cell_type": "markdown",
   "metadata": {},
   "source": [
    "## Preprocessing\n",
    "\n",
    "We are going to create a recommendation system based on a film's dataset.\n",
    "\n",
    "It will try to predict if the user will love a film or not."
   ]
  },
  {
   "cell_type": "code",
   "execution_count": 2,
   "metadata": {},
   "outputs": [],
   "source": [
    "df_movies = pd.read_csv(\"ml-1m\\\\movies.dat\", sep=\"::\", header=None, engine=\"python\",\n",
    "                encoding=\"latin-1\")\n",
    "users = pd.read_csv(\"ml-1m\\\\users.dat\", sep=\"::\", header=None, engine=\"python\",\n",
    "                encoding=\"latin-1\")\n",
    "ratings = pd.read_csv(\"ml-1m\\\\ratings.dat\", sep=\"::\", header=None, engine=\"python\",\n",
    "                encoding=\"latin-1\")"
   ]
  },
  {
   "cell_type": "code",
   "execution_count": 3,
   "metadata": {},
   "outputs": [
    {
     "data": {
      "text/html": [
       "<div>\n",
       "<style scoped>\n",
       "    .dataframe tbody tr th:only-of-type {\n",
       "        vertical-align: middle;\n",
       "    }\n",
       "\n",
       "    .dataframe tbody tr th {\n",
       "        vertical-align: top;\n",
       "    }\n",
       "\n",
       "    .dataframe thead th {\n",
       "        text-align: right;\n",
       "    }\n",
       "</style>\n",
       "<table border=\"1\" class=\"dataframe\">\n",
       "  <thead>\n",
       "    <tr style=\"text-align: right;\">\n",
       "      <th></th>\n",
       "      <th>0</th>\n",
       "      <th>1</th>\n",
       "      <th>2</th>\n",
       "    </tr>\n",
       "  </thead>\n",
       "  <tbody>\n",
       "    <tr>\n",
       "      <th>0</th>\n",
       "      <td>1</td>\n",
       "      <td>Toy Story (1995)</td>\n",
       "      <td>Animation|Children's|Comedy</td>\n",
       "    </tr>\n",
       "    <tr>\n",
       "      <th>1</th>\n",
       "      <td>2</td>\n",
       "      <td>Jumanji (1995)</td>\n",
       "      <td>Adventure|Children's|Fantasy</td>\n",
       "    </tr>\n",
       "    <tr>\n",
       "      <th>2</th>\n",
       "      <td>3</td>\n",
       "      <td>Grumpier Old Men (1995)</td>\n",
       "      <td>Comedy|Romance</td>\n",
       "    </tr>\n",
       "    <tr>\n",
       "      <th>3</th>\n",
       "      <td>4</td>\n",
       "      <td>Waiting to Exhale (1995)</td>\n",
       "      <td>Comedy|Drama</td>\n",
       "    </tr>\n",
       "    <tr>\n",
       "      <th>4</th>\n",
       "      <td>5</td>\n",
       "      <td>Father of the Bride Part II (1995)</td>\n",
       "      <td>Comedy</td>\n",
       "    </tr>\n",
       "  </tbody>\n",
       "</table>\n",
       "</div>"
      ],
      "text/plain": [
       "   0                                   1                             2\n",
       "0  1                    Toy Story (1995)   Animation|Children's|Comedy\n",
       "1  2                      Jumanji (1995)  Adventure|Children's|Fantasy\n",
       "2  3             Grumpier Old Men (1995)                Comedy|Romance\n",
       "3  4            Waiting to Exhale (1995)                  Comedy|Drama\n",
       "4  5  Father of the Bride Part II (1995)                        Comedy"
      ]
     },
     "execution_count": 3,
     "metadata": {},
     "output_type": "execute_result"
    }
   ],
   "source": [
    "df_movies.head()\n",
    "# movie id / name / type"
   ]
  },
  {
   "cell_type": "code",
   "execution_count": 4,
   "metadata": {},
   "outputs": [
    {
     "data": {
      "text/html": [
       "<div>\n",
       "<style scoped>\n",
       "    .dataframe tbody tr th:only-of-type {\n",
       "        vertical-align: middle;\n",
       "    }\n",
       "\n",
       "    .dataframe tbody tr th {\n",
       "        vertical-align: top;\n",
       "    }\n",
       "\n",
       "    .dataframe thead th {\n",
       "        text-align: right;\n",
       "    }\n",
       "</style>\n",
       "<table border=\"1\" class=\"dataframe\">\n",
       "  <thead>\n",
       "    <tr style=\"text-align: right;\">\n",
       "      <th></th>\n",
       "      <th>0</th>\n",
       "      <th>1</th>\n",
       "      <th>2</th>\n",
       "      <th>3</th>\n",
       "      <th>4</th>\n",
       "    </tr>\n",
       "  </thead>\n",
       "  <tbody>\n",
       "    <tr>\n",
       "      <th>0</th>\n",
       "      <td>1</td>\n",
       "      <td>F</td>\n",
       "      <td>1</td>\n",
       "      <td>10</td>\n",
       "      <td>48067</td>\n",
       "    </tr>\n",
       "    <tr>\n",
       "      <th>1</th>\n",
       "      <td>2</td>\n",
       "      <td>M</td>\n",
       "      <td>56</td>\n",
       "      <td>16</td>\n",
       "      <td>70072</td>\n",
       "    </tr>\n",
       "    <tr>\n",
       "      <th>2</th>\n",
       "      <td>3</td>\n",
       "      <td>M</td>\n",
       "      <td>25</td>\n",
       "      <td>15</td>\n",
       "      <td>55117</td>\n",
       "    </tr>\n",
       "    <tr>\n",
       "      <th>3</th>\n",
       "      <td>4</td>\n",
       "      <td>M</td>\n",
       "      <td>45</td>\n",
       "      <td>7</td>\n",
       "      <td>02460</td>\n",
       "    </tr>\n",
       "    <tr>\n",
       "      <th>4</th>\n",
       "      <td>5</td>\n",
       "      <td>M</td>\n",
       "      <td>25</td>\n",
       "      <td>20</td>\n",
       "      <td>55455</td>\n",
       "    </tr>\n",
       "  </tbody>\n",
       "</table>\n",
       "</div>"
      ],
      "text/plain": [
       "   0  1   2   3      4\n",
       "0  1  F   1  10  48067\n",
       "1  2  M  56  16  70072\n",
       "2  3  M  25  15  55117\n",
       "3  4  M  45   7  02460\n",
       "4  5  M  25  20  55455"
      ]
     },
     "execution_count": 4,
     "metadata": {},
     "output_type": "execute_result"
    }
   ],
   "source": [
    "users.head()\n",
    "# user id / gender / age /professional category / Postal code"
   ]
  },
  {
   "cell_type": "code",
   "execution_count": 5,
   "metadata": {},
   "outputs": [
    {
     "data": {
      "text/html": [
       "<div>\n",
       "<style scoped>\n",
       "    .dataframe tbody tr th:only-of-type {\n",
       "        vertical-align: middle;\n",
       "    }\n",
       "\n",
       "    .dataframe tbody tr th {\n",
       "        vertical-align: top;\n",
       "    }\n",
       "\n",
       "    .dataframe thead th {\n",
       "        text-align: right;\n",
       "    }\n",
       "</style>\n",
       "<table border=\"1\" class=\"dataframe\">\n",
       "  <thead>\n",
       "    <tr style=\"text-align: right;\">\n",
       "      <th></th>\n",
       "      <th>0</th>\n",
       "      <th>1</th>\n",
       "      <th>2</th>\n",
       "      <th>3</th>\n",
       "    </tr>\n",
       "  </thead>\n",
       "  <tbody>\n",
       "    <tr>\n",
       "      <th>0</th>\n",
       "      <td>1</td>\n",
       "      <td>1193</td>\n",
       "      <td>5</td>\n",
       "      <td>978300760</td>\n",
       "    </tr>\n",
       "    <tr>\n",
       "      <th>1</th>\n",
       "      <td>1</td>\n",
       "      <td>661</td>\n",
       "      <td>3</td>\n",
       "      <td>978302109</td>\n",
       "    </tr>\n",
       "    <tr>\n",
       "      <th>2</th>\n",
       "      <td>1</td>\n",
       "      <td>914</td>\n",
       "      <td>3</td>\n",
       "      <td>978301968</td>\n",
       "    </tr>\n",
       "    <tr>\n",
       "      <th>3</th>\n",
       "      <td>1</td>\n",
       "      <td>3408</td>\n",
       "      <td>4</td>\n",
       "      <td>978300275</td>\n",
       "    </tr>\n",
       "    <tr>\n",
       "      <th>4</th>\n",
       "      <td>1</td>\n",
       "      <td>2355</td>\n",
       "      <td>5</td>\n",
       "      <td>978824291</td>\n",
       "    </tr>\n",
       "  </tbody>\n",
       "</table>\n",
       "</div>"
      ],
      "text/plain": [
       "   0     1  2          3\n",
       "0  1  1193  5  978300760\n",
       "1  1   661  3  978302109\n",
       "2  1   914  3  978301968\n",
       "3  1  3408  4  978300275\n",
       "4  1  2355  5  978824291"
      ]
     },
     "execution_count": 5,
     "metadata": {},
     "output_type": "execute_result"
    }
   ],
   "source": [
    "ratings.head()\n",
    "# user id / movie id / rating / timestamp"
   ]
  },
  {
   "cell_type": "code",
   "execution_count": 6,
   "metadata": {},
   "outputs": [],
   "source": [
    "df_train = pd.read_csv(\"ml-100k/u1.base\", delimiter=\"\\t\", header=None)\n",
    "df_test = pd.read_csv(\"ml-100k/u1.test\", delimiter=\"\\t\", header=None)"
   ]
  },
  {
   "cell_type": "code",
   "execution_count": 7,
   "metadata": {},
   "outputs": [
    {
     "data": {
      "text/html": [
       "<div>\n",
       "<style scoped>\n",
       "    .dataframe tbody tr th:only-of-type {\n",
       "        vertical-align: middle;\n",
       "    }\n",
       "\n",
       "    .dataframe tbody tr th {\n",
       "        vertical-align: top;\n",
       "    }\n",
       "\n",
       "    .dataframe thead th {\n",
       "        text-align: right;\n",
       "    }\n",
       "</style>\n",
       "<table border=\"1\" class=\"dataframe\">\n",
       "  <thead>\n",
       "    <tr style=\"text-align: right;\">\n",
       "      <th></th>\n",
       "      <th>0</th>\n",
       "      <th>1</th>\n",
       "      <th>2</th>\n",
       "      <th>3</th>\n",
       "    </tr>\n",
       "  </thead>\n",
       "  <tbody>\n",
       "    <tr>\n",
       "      <th>0</th>\n",
       "      <td>1</td>\n",
       "      <td>1</td>\n",
       "      <td>5</td>\n",
       "      <td>874965758</td>\n",
       "    </tr>\n",
       "    <tr>\n",
       "      <th>1</th>\n",
       "      <td>1</td>\n",
       "      <td>2</td>\n",
       "      <td>3</td>\n",
       "      <td>876893171</td>\n",
       "    </tr>\n",
       "    <tr>\n",
       "      <th>2</th>\n",
       "      <td>1</td>\n",
       "      <td>3</td>\n",
       "      <td>4</td>\n",
       "      <td>878542960</td>\n",
       "    </tr>\n",
       "    <tr>\n",
       "      <th>3</th>\n",
       "      <td>1</td>\n",
       "      <td>4</td>\n",
       "      <td>3</td>\n",
       "      <td>876893119</td>\n",
       "    </tr>\n",
       "    <tr>\n",
       "      <th>4</th>\n",
       "      <td>1</td>\n",
       "      <td>5</td>\n",
       "      <td>3</td>\n",
       "      <td>889751712</td>\n",
       "    </tr>\n",
       "  </tbody>\n",
       "</table>\n",
       "</div>"
      ],
      "text/plain": [
       "   0  1  2          3\n",
       "0  1  1  5  874965758\n",
       "1  1  2  3  876893171\n",
       "2  1  3  4  878542960\n",
       "3  1  4  3  876893119\n",
       "4  1  5  3  889751712"
      ]
     },
     "execution_count": 7,
     "metadata": {},
     "output_type": "execute_result"
    }
   ],
   "source": [
    "df_train.head()\n",
    "# user id / movie id / note / timestamp"
   ]
  },
  {
   "cell_type": "code",
   "execution_count": 8,
   "metadata": {},
   "outputs": [
    {
     "data": {
      "text/html": [
       "<div>\n",
       "<style scoped>\n",
       "    .dataframe tbody tr th:only-of-type {\n",
       "        vertical-align: middle;\n",
       "    }\n",
       "\n",
       "    .dataframe tbody tr th {\n",
       "        vertical-align: top;\n",
       "    }\n",
       "\n",
       "    .dataframe thead th {\n",
       "        text-align: right;\n",
       "    }\n",
       "</style>\n",
       "<table border=\"1\" class=\"dataframe\">\n",
       "  <thead>\n",
       "    <tr style=\"text-align: right;\">\n",
       "      <th></th>\n",
       "      <th>0</th>\n",
       "      <th>1</th>\n",
       "      <th>2</th>\n",
       "      <th>3</th>\n",
       "    </tr>\n",
       "  </thead>\n",
       "  <tbody>\n",
       "    <tr>\n",
       "      <th>0</th>\n",
       "      <td>1</td>\n",
       "      <td>6</td>\n",
       "      <td>5</td>\n",
       "      <td>887431973</td>\n",
       "    </tr>\n",
       "    <tr>\n",
       "      <th>1</th>\n",
       "      <td>1</td>\n",
       "      <td>10</td>\n",
       "      <td>3</td>\n",
       "      <td>875693118</td>\n",
       "    </tr>\n",
       "    <tr>\n",
       "      <th>2</th>\n",
       "      <td>1</td>\n",
       "      <td>12</td>\n",
       "      <td>5</td>\n",
       "      <td>878542960</td>\n",
       "    </tr>\n",
       "    <tr>\n",
       "      <th>3</th>\n",
       "      <td>1</td>\n",
       "      <td>14</td>\n",
       "      <td>5</td>\n",
       "      <td>874965706</td>\n",
       "    </tr>\n",
       "    <tr>\n",
       "      <th>4</th>\n",
       "      <td>1</td>\n",
       "      <td>17</td>\n",
       "      <td>3</td>\n",
       "      <td>875073198</td>\n",
       "    </tr>\n",
       "  </tbody>\n",
       "</table>\n",
       "</div>"
      ],
      "text/plain": [
       "   0   1  2          3\n",
       "0  1   6  5  887431973\n",
       "1  1  10  3  875693118\n",
       "2  1  12  5  878542960\n",
       "3  1  14  5  874965706\n",
       "4  1  17  3  875073198"
      ]
     },
     "execution_count": 8,
     "metadata": {},
     "output_type": "execute_result"
    }
   ],
   "source": [
    "df_test.head()\n",
    "# user id / movie id / note / timestamp"
   ]
  },
  {
   "cell_type": "code",
   "execution_count": 9,
   "metadata": {},
   "outputs": [],
   "source": [
    "#df_train = np.array(df_train, dtype=\"int\")\n",
    "#df_test = np.array(df_test, dtype=\"int\")"
   ]
  },
  {
   "cell_type": "markdown",
   "metadata": {},
   "source": [
    "Firstly, we will get the user's id set (as an array)"
   ]
  },
  {
   "cell_type": "code",
   "execution_count": 10,
   "metadata": {},
   "outputs": [],
   "source": [
    "_users = list(set(np.concatenate((df_train[df_train.columns[0]].value_counts().index, \n",
    "                           df_test[df_test.columns[0]].value_counts().index), \n",
    "                          axis=0)))"
   ]
  },
  {
   "cell_type": "code",
   "execution_count": 11,
   "metadata": {},
   "outputs": [
    {
     "name": "stdout",
     "output_type": "stream",
     "text": [
      "Number of unique users : 943\n"
     ]
    }
   ],
   "source": [
    "print(\"Number of unique users : {}\".format(len(_users)))"
   ]
  },
  {
   "cell_type": "markdown",
   "metadata": {},
   "source": [
    "Nextly, we will get the movies's number"
   ]
  },
  {
   "cell_type": "code",
   "execution_count": 12,
   "metadata": {},
   "outputs": [],
   "source": [
    "_movies =  list(set(np.concatenate((df_train[df_train.columns[1]].value_counts().index, \n",
    "                           df_test[df_test.columns[1]].value_counts().index), \n",
    "                          axis=0)))"
   ]
  },
  {
   "cell_type": "code",
   "execution_count": 13,
   "metadata": {},
   "outputs": [
    {
     "name": "stdout",
     "output_type": "stream",
     "text": [
      "Number of unique movies : 1682\n"
     ]
    }
   ],
   "source": [
    "print(\"Number of unique movies : {}\".format(len(_movies)))"
   ]
  },
  {
   "cell_type": "markdown",
   "metadata": {},
   "source": [
    "Then, we are going to convert our data to a huge matrix using pytorch"
   ]
  },
  {
   "cell_type": "code",
   "execution_count": 14,
   "metadata": {},
   "outputs": [],
   "source": [
    "def createMatrix(df, users, movies):\n",
    "    matrix = []\n",
    "    movies_nb = len(movies)\n",
    "    user_nb = len(users)\n",
    "    df_array = np.array(df, dtype=\"int\")\n",
    "    for i,user in enumerate(users):\n",
    "        filtered_movies = df_array[df_array[:,0] == user, 1]\n",
    "        filtered_ratings = df_array[df_array[:,0] == user, 2]\n",
    "        ratings = np.zeros(movies_nb)\n",
    "        for j in range(len(filtered_movies)):\n",
    "            ratings[filtered_movies[j] - 1] = filtered_ratings[j]\n",
    "        matrix.append(ratings)\n",
    "                      \n",
    "        sys.stdout.write(\"\\r Loading State : {} / {}\".format(i+1,user_nb))\n",
    "        sys.stdout.flush()\n",
    "        \n",
    "    return matrix"
   ]
  },
  {
   "cell_type": "code",
   "execution_count": 15,
   "metadata": {},
   "outputs": [
    {
     "name": "stdout",
     "output_type": "stream",
     "text": [
      " Loading State : 943 / 943"
     ]
    }
   ],
   "source": [
    "matrix = createMatrix(df_train, _users, _movies)"
   ]
  },
  {
   "cell_type": "code",
   "execution_count": 16,
   "metadata": {},
   "outputs": [
    {
     "name": "stdout",
     "output_type": "stream",
     "text": [
      " Loading State : 943 / 943"
     ]
    }
   ],
   "source": [
    "matrix_test = createMatrix(df_test, _users, _movies)"
   ]
  },
  {
   "cell_type": "code",
   "execution_count": 17,
   "metadata": {},
   "outputs": [],
   "source": [
    "train = torch.FloatTensor(matrix)\n",
    "test = torch.FloatTensor(matrix_test) "
   ]
  },
  {
   "cell_type": "markdown",
   "metadata": {},
   "source": [
    "We will now encode our ratings to -1 (no data = 0), 0 (don't love), 1 (love)"
   ]
  },
  {
   "cell_type": "code",
   "execution_count": 18,
   "metadata": {},
   "outputs": [],
   "source": [
    "train[train == 0] = -1\n",
    "test[test == 0] = -1"
   ]
  },
  {
   "cell_type": "code",
   "execution_count": 19,
   "metadata": {},
   "outputs": [],
   "source": [
    "train[train < 3] = 0\n",
    "test[test < 3] = 0"
   ]
  },
  {
   "cell_type": "code",
   "execution_count": 20,
   "metadata": {},
   "outputs": [],
   "source": [
    "train[train >= 3] = 1\n",
    "test[test >= 3] = 1"
   ]
  },
  {
   "cell_type": "markdown",
   "metadata": {},
   "source": [
    "## Model"
   ]
  },
  {
   "cell_type": "code",
   "execution_count": 83,
   "metadata": {},
   "outputs": [],
   "source": [
    "class RestrictedBoltzmannMachine():\n",
    "    def __init__(self, nb_n_visible, nb_n_hidden):\n",
    "        self.Weights = torch.randn(nb_n_visible, nb_n_hidden)\n",
    "        self.a = torch.randn(1, nb_n_hidden)\n",
    "        self.b = torch.randn(1, nb_n_visible)\n",
    "    \n",
    "    def gibs_sample_hidden(self, x):\n",
    "        x_weights = torch.mm(x, self.Weights)\n",
    "        probability_h_given_v = torch.sigmoid(x_weights + self.a.expand_as(x_weights))\n",
    "        return probability_h_given_v, torch.bernoulli(probability_h_given_v)\n",
    "    \n",
    "    def gibs_sample_visible(self, y):\n",
    "        y_weights = torch.mm(y, self.Weights.t())\n",
    "        probability_v_given_h = torch.sigmoid(y_weights + self.b.expand_as(y_weights))\n",
    "        return probability_v_given_h, torch.bernoulli(probability_v_given_h)\n",
    "    \n",
    "    def contrastive_divergence(self, visible_0, visible_k, \n",
    "                               probability_h_given_v0, probability_h_given_vk):\n",
    "        self.Weights += torch.mm(visible_0.t(), probability_h_given_v0) - torch.mm(visible_k.t(), probability_h_given_vk)\n",
    "        self.b += torch.sum((visible_0 - visible_k),0)\n",
    "        self.a += torch.sum((probability_h_given_v0 - probability_h_given_vk),0)\n",
    "        \n",
    "    def train(self, X, epoch=10, batch_size=32, gibs_sampling=10):\n",
    "        self.X_train = X\n",
    "        nb_users = X.shape[0]\n",
    "        for i in range(epoch):\n",
    "            print(\"Epoch => {}/{}\".format(i+1,epoch))\n",
    "            train_loss = 0\n",
    "            s = 0.\n",
    "            for user in range(0, nb_users - batch_size, batch_size):\n",
    "                visible_0 = X[user:user+batch_size]\n",
    "                visible_k = visible_0\n",
    "                probabilty_hidden_0, _ = self.gibs_sample_hidden(visible_0)\n",
    "                for k in range(0,gibs_sampling):\n",
    "                    _, hidden_k = self.gibs_sample_hidden(visible_k)\n",
    "                    _, visible_k = self.gibs_sample_visible(hidden_k)\n",
    "                    # no rating's filter --> no changes\n",
    "                    visible_k[visible_0 < 0] = visible_0[visible_0 < 0]\n",
    "                probabilty_hidden_k, _ = self.gibs_sample_hidden(visible_k)\n",
    "                self.contrastive_divergence(visible_0, visible_k,\n",
    "                                           probabilty_hidden_0, probabilty_hidden_k)\n",
    "                train_loss += torch.mean(torch.abs(visible_0[visible_0 >= 0] - \n",
    "                                                   visible_k[visible_0 >= 0]))\n",
    "                s+=1\n",
    "            print(\"   => Loss : {}\".format((train_loss/s)))\n",
    "            \n",
    "    def test(self, X):\n",
    "        nb_users = self.X_train.shape[0]\n",
    "        \n",
    "        sys.stdout.write(\"\\r Processing\")\n",
    "        sys.stdout.flush()\n",
    "                         \n",
    "        test_loss = 0\n",
    "        s = 0.\n",
    "        for user in range(nb_users):\n",
    "            visible = self.X_train[user:user+1]\n",
    "            visible_target = X[user:user+1]\n",
    "            if len(visible_target[visible_target >= 0]) > 0:\n",
    "                _, hidden = self.gibs_sample_hidden(visible)\n",
    "                _, visible = self.gibs_sample_visible(hidden)\n",
    "                test_loss += torch.mean(torch.abs(visible_target[visible_target >= 0] - \n",
    "                                                   visible[visible_target >= 0]))\n",
    "                s+=1\n",
    "                         \n",
    "        sys.stdout.write(\"\\r Test Set => Loss : {}\".format((test_loss/s)))\n",
    "        sys.stdout.flush()"
   ]
  },
  {
   "cell_type": "code",
   "execution_count": 84,
   "metadata": {},
   "outputs": [],
   "source": [
    "_neuron_visible = train.shape[1]\n",
    "_neuron_hidden = 100 #train.shape[0]\n",
    "_batch_size = 1\n",
    "_nb_epoch = 10\n",
    "_gibs_sampling = 10"
   ]
  },
  {
   "cell_type": "code",
   "execution_count": 85,
   "metadata": {},
   "outputs": [],
   "source": [
    "rbm = RestrictedBoltzmannMachine(_neuron_visible, _neuron_hidden)"
   ]
  },
  {
   "cell_type": "code",
   "execution_count": 86,
   "metadata": {},
   "outputs": [
    {
     "name": "stdout",
     "output_type": "stream",
     "text": [
      "Epoch => 1/10\n",
      "   => Loss : 0.07236102223396301\n",
      "Epoch => 2/10\n",
      "   => Loss : 0.06743250787258148\n",
      "Epoch => 3/10\n",
      "   => Loss : 0.06691240519285202\n",
      "Epoch => 4/10\n",
      "   => Loss : 0.06655645370483398\n",
      "Epoch => 5/10\n",
      "   => Loss : 0.06641065329313278\n",
      "Epoch => 6/10\n",
      "   => Loss : 0.06626234948635101\n",
      "Epoch => 7/10\n",
      "   => Loss : 0.06591334939002991\n",
      "Epoch => 8/10\n",
      "   => Loss : 0.06564825028181076\n",
      "Epoch => 9/10\n",
      "   => Loss : 0.0654311254620552\n",
      "Epoch => 10/10\n",
      "   => Loss : 0.06551258265972137\n"
     ]
    }
   ],
   "source": [
    "rbm.train(train, _nb_epoch, _batch_size, _gibs_sampling)"
   ]
  },
  {
   "cell_type": "code",
   "execution_count": 87,
   "metadata": {},
   "outputs": [
    {
     "name": "stdout",
     "output_type": "stream",
     "text": [
      " Test Set => Loss : 0.04984850063920021"
     ]
    }
   ],
   "source": [
    "rbm.test(test)"
   ]
  },
  {
   "cell_type": "code",
   "execution_count": null,
   "metadata": {},
   "outputs": [],
   "source": []
  }
 ],
 "metadata": {
  "kernelspec": {
   "display_name": "Python 3",
   "language": "python",
   "name": "python3"
  },
  "language_info": {
   "codemirror_mode": {
    "name": "ipython",
    "version": 3
   },
   "file_extension": ".py",
   "mimetype": "text/x-python",
   "name": "python",
   "nbconvert_exporter": "python",
   "pygments_lexer": "ipython3",
   "version": "3.7.7"
  }
 },
 "nbformat": 4,
 "nbformat_minor": 4
}
